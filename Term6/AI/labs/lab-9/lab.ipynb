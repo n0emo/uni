{
 "cells": [
  {
   "cell_type": "markdown",
   "id": "a110f984",
   "metadata": {},
   "source": [
    "# Задание\n",
    "\n",
    "**Задача о назначениях** (Assignment Problem) — классическая задача оптимизации, возникающая в экономике и логистике.\n",
    "\n",
    "## Формулировка\n",
    "\n",
    "Дано:\n",
    "-\tДано множество испольнителей $I = \\{1, 2, \\dots, n\\}$ и множество работ $J = \\{1, 2, \\dots, n\\}$ \n",
    "- Каждый исполнитель может быть назначен только на одну работу, и каждая работа может выполняться только одним исполнителем.\n",
    "- Матрица стоимостей: $c_{ij}$ (стоимость выполнения работы $j$ исполнителем $i$)\n",
    "- \tДля каждой пары «исполнитель-работа» задана стоимость выполнения работы $c_ij$, где $i∈I$, $j∈J$.\n",
    "\n",
    "По условию задачи требуется найти такое распределение работ по исполнителям, чтобы общая стоимость была минимальной:\n",
    "\n",
    "Минимизировать:  $\\sum_{i=1}^n \\sum_{j=1}^n c_{ij} \\cdot x_{ij}$, где $x_{ij}$ -  переменная, равная 1,если исполнитель i назначен на работу j и 0 в противном случае\n",
    "\n",
    "# Ход работы\n",
    "\n",
    "## Ограничения\n",
    "\n",
    "1. Каждый исполнитель назначается на одну работу:\n",
    "   $$\\sum_{j=1,i=1}^n x_{ij} = 1 \\quad \\forall i,j \\in I,J$$\n",
    "\n",
    "## Разработка класса сети Хопфилда для решения задачи назначения\n",
    "       \n",
    "Атрибуты класса:\n",
    "   - `cost_matrix`: матрица стоимостей (n x n)\n",
    "   - `A`: коэффициент для ограничения по строкам\n",
    "   - `B`: коэффициент для ограничения по столбцам\n",
    "   - `C`: коэффициент для минимизации стоимости\n",
    "   - `max_iter`: максимальное число итераций\n",
    "   - `T_start`: начальная температура для имитации отжига\n",
    "   - `cooling_rate`: скорость охлаждения"
   ]
  },
  {
   "cell_type": "code",
   "execution_count": 1,
   "id": "6dbffffb",
   "metadata": {},
   "outputs": [],
   "source": [
    "import numpy as np\n",
    "\n",
    "class HopfieldNetwork:\n",
    "    def __init__(self, cost_matrix, A=1.0, B=1.0, C=1.0, max_iter=1000, T_start=100.0, cooling_rate=0.99):\n",
    "        self.n = len(cost_matrix)\n",
    "        self.cost_matrix = np.array(cost_matrix, dtype=float)\n",
    "        self.A = A\n",
    "        self.B = B\n",
    "        self.C = C\n",
    "        self.max_iter = max_iter\n",
    "        self.T_start = T_start\n",
    "        self.cooling_rate = cooling_rate\n",
    "        # Нормализация начальных значений по строкам\n",
    "        self.V = np.random.rand(self.n, self.n)\n",
    "        self.V /= np.sum(self.V, axis=1, keepdims=True)\n",
    "\n",
    "    def update(self, T):\n",
    "        # Инициализация матрицы состояний нейронов V (n x n)\n",
    "        # Каждый нейрон V[i,j] представляет вероятность назначения i-го работника на j-ю работ\n",
    "        row_sums = np.sum(self.V, axis=1) - 1\n",
    "        col_sums = np.sum(self.V, axis=0) - 1\n",
    "        # Асинхронное обновление в случайном порядке\n",
    "        indices = [(i, j) for i in range(self.n) for j in range(self.n)]\n",
    "        np.random.shuffle(indices)\n",
    "        for i, j in indices:\n",
    "             # Вычисление общего входа нейрона (i,j):\n",
    "            # 1. Штраф за нарушение ограничения по строке\n",
    "            # 2. Штраф за нарушение ограничения по столбцу\n",
    "            # 3. Вклад от стоимости назначения\n",
    "            u_ij = (-self.A * row_sums[i]\n",
    "                    - self.B * col_sums[j]\n",
    "                    - self.C * self.cost_matrix[i, j])\n",
    "            # Ограничение для предотвращения переполнения\n",
    "            u_ij_clipped = np.clip(u_ij, -700 * T, 700 * T)\n",
    "            self.V[i, j] = 1 / (1 + np.exp(-u_ij_clipped / T))\n",
    "\n",
    "    def anneal(self):\n",
    "        T = self.T_start\n",
    "        for _ in range(self.max_iter):\n",
    "            self.update(T)\n",
    "            T *= self.cooling_rate  # Понижение температуры\n",
    "\n",
    "    def get_solution(self):\n",
    "        # Преобразование непрерывных состояний нейронов в дискретное решение    \n",
    "        # Возвращает:\n",
    "        # - Матрицу назначений (0 и 1), где 1 означает назначение\n",
    "        solution = np.zeros((self.n, self.n), dtype=int)\n",
    "        V_rounded = np.round(self.V).astype(int)\n",
    "\n",
    "        # Коррекция строк\n",
    "        for i in range(self.n):\n",
    "            row = V_rounded[i, :]\n",
    "            if np.sum(row) == 0:\n",
    "                max_j = np.argmax(self.V[i, :])\n",
    "                V_rounded[i, max_j] = 1\n",
    "            elif np.sum(row) > 1:\n",
    "                max_j = np.argmax(self.V[i, :])\n",
    "                V_rounded[i, :] = 0\n",
    "                V_rounded[i, max_j] = 1\n",
    "\n",
    "        # Коррекция столбцов\n",
    "        for j in range(self.n):\n",
    "            col = V_rounded[:, j]\n",
    "            if np.sum(col) == 0:\n",
    "                available_rows = np.where(np.sum(V_rounded, axis=1) == 0)[0]\n",
    "                if len(available_rows) > 0:\n",
    "                    min_row = min(available_rows, key=lambda x: self.cost_matrix[x, j])\n",
    "                else:\n",
    "                    min_row = np.argmin(self.cost_matrix[:, j])\n",
    "                V_rounded[min_row, j] = 1\n",
    "            elif np.sum(col) > 1:\n",
    "                candidates = np.where(col == 1)[0]\n",
    "                min_row = min(candidates, key=lambda x: self.cost_matrix[x, j])\n",
    "                V_rounded[:, j] = 0\n",
    "                V_rounded[min_row, j] = 1\n",
    "\n",
    "        return V_rounded\n",
    "\n"
   ]
  },
  {
   "cell_type": "markdown",
   "id": "72a45cb3",
   "metadata": {},
   "source": [
    "## Проверка\n",
    "\n",
    "3 работника с 3 видами работ "
   ]
  },
  {
   "cell_type": "code",
   "execution_count": 2,
   "id": "69ec8b2a",
   "metadata": {},
   "outputs": [
    {
     "name": "stdout",
     "output_type": "stream",
     "text": [
      "Матрица стоимостей:\n"
     ]
    },
    {
     "data": {
      "text/plain": [
       "array([[2, 3, 1],\n",
       "       [5, 1, 4],\n",
       "       [3, 2, 2]])"
      ]
     },
     "metadata": {},
     "output_type": "display_data"
    },
    {
     "name": "stdout",
     "output_type": "stream",
     "text": [
      "Матрица назначений:\n"
     ]
    },
    {
     "data": {
      "text/plain": [
       "array([[1, 0, 0],\n",
       "       [0, 1, 0],\n",
       "       [0, 0, 1]])"
      ]
     },
     "metadata": {},
     "output_type": "display_data"
    },
    {
     "name": "stdout",
     "output_type": "stream",
     "text": [
      "Суммарная стоимость: 5\n"
     ]
    }
   ],
   "source": [
    "# Пример использования\n",
    "cost_matrix = np.array([\n",
    "    [2, 3, 1],\n",
    "    [5, 1, 4],\n",
    "    [3, 2, 2]\n",
    "])\n",
    "print(\"Матрица стоимостей:\")\n",
    "display(cost_matrix)\n",
    "\n",
    "hn = HopfieldNetwork(\n",
    "    cost_matrix,\n",
    "    A=5.0,\n",
    "    B=5.0,\n",
    "    C=1.0,\n",
    "    max_iter=1000,\n",
    "    T_start=100.0,\n",
    "    cooling_rate=0.99\n",
    ")\n",
    "hn.anneal()\n",
    "solution = hn.get_solution()\n",
    "\n",
    "print(\"Матрица назначений:\")\n",
    "display(solution)\n",
    "print(\"Суммарная стоимость:\", np.sum(solution * cost_matrix))\n"
   ]
  },
  {
   "cell_type": "markdown",
   "id": "8789a2f9",
   "metadata": {},
   "source": [
    "# Вывод\n",
    "\n",
    "В ходе данной лабораторной работы были отработаны практические навыки моделирования и реализации нейронной сети Хопфилда и применение ее в решении задачи о назначениях."
   ]
  }
 ],
 "metadata": {
  "kernelspec": {
   "display_name": ".venv",
   "language": "python",
   "name": "python3"
  },
  "language_info": {
   "codemirror_mode": {
    "name": "ipython",
    "version": 3
   },
   "file_extension": ".py",
   "mimetype": "text/x-python",
   "name": "python",
   "nbconvert_exporter": "python",
   "pygments_lexer": "ipython3",
   "version": "3.13.3"
  }
 },
 "nbformat": 4,
 "nbformat_minor": 5
}
