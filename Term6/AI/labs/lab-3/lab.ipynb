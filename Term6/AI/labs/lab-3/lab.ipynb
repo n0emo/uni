{
 "cells": [
  {
   "cell_type": "markdown",
   "id": "308254cf-4447-428a-aea3-8b8d2ee4f8f1",
   "metadata": {},
   "source": [
    "# Задание\n",
    "\n",
    "Отработать этапы разработки экспертной системы для решения задачи (проблемы) выбора. Осуществить программную реализацию экспертной системы на любом языке программирования (Python)"
   ]
  },
  {
   "cell_type": "markdown",
   "id": "eb968e57-2837-4ca4-b711-2db5bda5f0f3",
   "metadata": {},
   "source": [
    "# Ход работы"
   ]
  },
  {
   "cell_type": "code",
   "execution_count": 1,
   "id": "59ded3e9",
   "metadata": {},
   "outputs": [],
   "source": [
    "import mermaid as mmd"
   ]
  },
  {
   "cell_type": "markdown",
   "id": "b55c6fb2",
   "metadata": {},
   "source": [
    "## Блок-схема\n",
    "\n",
    "Представленная блок-схема позволяет получить примерное представление об алгоритме работы программы. Следуя вопросом по этой схеме, можно выбрать подходящий материал для изготовления одежды"
   ]
  },
  {
   "cell_type": "code",
   "execution_count": 2,
   "id": "1025e0d5",
   "metadata": {},
   "outputs": [
    {
     "data": {
      "text/html": [
       "<svg id=\"mermaid-svg\" width=\"100%\" xmlns=\"http://www.w3.org/2000/svg\" class=\"flowchart\" style=\"max-width: 747.7265625px;\" viewBox=\"0 0 747.7265625 1223.984375\" role=\"graphics-document document\" aria-roledescription=\"flowchart-v2\" xmlns:xlink=\"http://www.w3.org/1999/xlink\"><style xmlns=\"http://www.w3.org/1999/xhtml\">@import url(\"https://cdnjs.cloudflare.com/ajax/libs/font-awesome/6.7.2/css/all.min.css\");</style><style>#mermaid-svg{font-family:\"trebuchet ms\",verdana,arial,sans-serif;font-size:16px;fill:#333;}@keyframes edge-animation-frame{from{stroke-dashoffset:0;}}@keyframes dash{to{stroke-dashoffset:0;}}#mermaid-svg .edge-animation-slow{stroke-dasharray:9,5!important;stroke-dashoffset:900;animation:dash 50s linear infinite;stroke-linecap:round;}#mermaid-svg .edge-animation-fast{stroke-dasharray:9,5!important;stroke-dashoffset:900;animation:dash 20s linear infinite;stroke-linecap:round;}#mermaid-svg .error-icon{fill:#552222;}#mermaid-svg .error-text{fill:#552222;stroke:#552222;}#mermaid-svg .edge-thickness-normal{stroke-width:1px;}#mermaid-svg .edge-thickness-thick{stroke-width:3.5px;}#mermaid-svg .edge-pattern-solid{stroke-dasharray:0;}#mermaid-svg .edge-thickness-invisible{stroke-width:0;fill:none;}#mermaid-svg .edge-pattern-dashed{stroke-dasharray:3;}#mermaid-svg .edge-pattern-dotted{stroke-dasharray:2;}#mermaid-svg .marker{fill:#333333;stroke:#333333;}#mermaid-svg .marker.cross{stroke:#333333;}#mermaid-svg svg{font-family:\"trebuchet ms\",verdana,arial,sans-serif;font-size:16px;}#mermaid-svg p{margin:0;}#mermaid-svg .label{font-family:\"trebuchet ms\",verdana,arial,sans-serif;color:#333;}#mermaid-svg .cluster-label text{fill:#333;}#mermaid-svg .cluster-label span{color:#333;}#mermaid-svg .cluster-label span p{background-color:transparent;}#mermaid-svg .label text,#mermaid-svg span{fill:#333;color:#333;}#mermaid-svg .node rect,#mermaid-svg .node circle,#mermaid-svg .node ellipse,#mermaid-svg .node polygon,#mermaid-svg .node path{fill:#ECECFF;stroke:#9370DB;stroke-width:1px;}#mermaid-svg .rough-node .label text,#mermaid-svg .node .label text,#mermaid-svg .image-shape .label,#mermaid-svg .icon-shape .label{text-anchor:middle;}#mermaid-svg .node .katex path{fill:#000;stroke:#000;stroke-width:1px;}#mermaid-svg .rough-node .label,#mermaid-svg .node .label,#mermaid-svg .image-shape .label,#mermaid-svg .icon-shape .label{text-align:center;}#mermaid-svg .node.clickable{cursor:pointer;}#mermaid-svg .root .anchor path{fill:#333333!important;stroke-width:0;stroke:#333333;}#mermaid-svg .arrowheadPath{fill:#333333;}#mermaid-svg .edgePath .path{stroke:#333333;stroke-width:2.0px;}#mermaid-svg .flowchart-link{stroke:#333333;fill:none;}#mermaid-svg .edgeLabel{background-color:rgba(232,232,232, 0.8);text-align:center;}#mermaid-svg .edgeLabel p{background-color:rgba(232,232,232, 0.8);}#mermaid-svg .edgeLabel rect{opacity:0.5;background-color:rgba(232,232,232, 0.8);fill:rgba(232,232,232, 0.8);}#mermaid-svg .labelBkg{background-color:rgba(232, 232, 232, 0.5);}#mermaid-svg .cluster rect{fill:#ffffde;stroke:#aaaa33;stroke-width:1px;}#mermaid-svg .cluster text{fill:#333;}#mermaid-svg .cluster span{color:#333;}#mermaid-svg div.mermaidTooltip{position:absolute;text-align:center;max-width:200px;padding:2px;font-family:\"trebuchet ms\",verdana,arial,sans-serif;font-size:12px;background:hsl(80, 100%, 96.2745098039%);border:1px solid #aaaa33;border-radius:2px;pointer-events:none;z-index:100;}#mermaid-svg .flowchartTitleText{text-anchor:middle;font-size:18px;fill:#333;}#mermaid-svg rect.text{fill:none;stroke-width:0;}#mermaid-svg .icon-shape,#mermaid-svg .image-shape{background-color:rgba(232,232,232, 0.8);text-align:center;}#mermaid-svg .icon-shape p,#mermaid-svg .image-shape p{background-color:rgba(232,232,232, 0.8);padding:2px;}#mermaid-svg .icon-shape rect,#mermaid-svg .image-shape rect{opacity:0.5;background-color:rgba(232,232,232, 0.8);fill:rgba(232,232,232, 0.8);}#mermaid-svg :root{--mermaid-font-family:\"trebuchet ms\",verdana,arial,sans-serif;}</style><g><marker id=\"mermaid-svg_flowchart-v2-pointEnd\" class=\"marker flowchart-v2\" viewBox=\"0 0 10 10\" refX=\"5\" refY=\"5\" markerUnits=\"userSpaceOnUse\" markerWidth=\"8\" markerHeight=\"8\" orient=\"auto\"><path d=\"M 0 0 L 10 5 L 0 10 z\" class=\"arrowMarkerPath\" style=\"stroke-width: 1; stroke-dasharray: 1, 0;\"/></marker><marker id=\"mermaid-svg_flowchart-v2-pointStart\" class=\"marker flowchart-v2\" viewBox=\"0 0 10 10\" refX=\"4.5\" refY=\"5\" markerUnits=\"userSpaceOnUse\" markerWidth=\"8\" markerHeight=\"8\" orient=\"auto\"><path d=\"M 0 5 L 10 10 L 10 0 z\" class=\"arrowMarkerPath\" style=\"stroke-width: 1; stroke-dasharray: 1, 0;\"/></marker><marker id=\"mermaid-svg_flowchart-v2-circleEnd\" class=\"marker flowchart-v2\" viewBox=\"0 0 10 10\" refX=\"11\" refY=\"5\" markerUnits=\"userSpaceOnUse\" markerWidth=\"11\" markerHeight=\"11\" orient=\"auto\"><circle cx=\"5\" cy=\"5\" r=\"5\" class=\"arrowMarkerPath\" style=\"stroke-width: 1; stroke-dasharray: 1, 0;\"/></marker><marker id=\"mermaid-svg_flowchart-v2-circleStart\" class=\"marker flowchart-v2\" viewBox=\"0 0 10 10\" refX=\"-1\" refY=\"5\" markerUnits=\"userSpaceOnUse\" markerWidth=\"11\" markerHeight=\"11\" orient=\"auto\"><circle cx=\"5\" cy=\"5\" r=\"5\" class=\"arrowMarkerPath\" style=\"stroke-width: 1; stroke-dasharray: 1, 0;\"/></marker><marker id=\"mermaid-svg_flowchart-v2-crossEnd\" class=\"marker cross flowchart-v2\" viewBox=\"0 0 11 11\" refX=\"12\" refY=\"5.2\" markerUnits=\"userSpaceOnUse\" markerWidth=\"11\" markerHeight=\"11\" orient=\"auto\"><path d=\"M 1,1 l 9,9 M 10,1 l -9,9\" class=\"arrowMarkerPath\" style=\"stroke-width: 2; stroke-dasharray: 1, 0;\"/></marker><marker id=\"mermaid-svg_flowchart-v2-crossStart\" class=\"marker cross flowchart-v2\" viewBox=\"0 0 11 11\" refX=\"-1\" refY=\"5.2\" markerUnits=\"userSpaceOnUse\" markerWidth=\"11\" markerHeight=\"11\" orient=\"auto\"><path d=\"M 1,1 l 9,9 M 10,1 l -9,9\" class=\"arrowMarkerPath\" style=\"stroke-width: 2; stroke-dasharray: 1, 0;\"/></marker><g class=\"root\"><g class=\"clusters\"/><g class=\"edgePaths\"><path d=\"M375.246,47L375.246,51.167C375.246,55.333,375.246,63.667,375.316,71.417C375.387,79.167,375.527,86.334,375.597,89.917L375.668,93.501\" id=\"L_Start_Budget_0\" class=\" edge-thickness-normal edge-pattern-solid edge-thickness-normal edge-pattern-solid flowchart-link\" style=\"\" marker-end=\"url(#mermaid-svg_flowchart-v2-pointEnd)\"/><path d=\"M316.434,201.469L273.71,217.438C230.987,233.406,145.54,265.344,102.817,301.05C60.094,336.755,60.094,376.229,60.094,415.703C60.094,455.177,60.094,494.651,60.094,535.991C60.094,577.331,60.094,620.536,60.094,663.742C60.094,706.948,60.094,750.154,60.094,793.225C60.094,836.297,60.094,879.234,60.094,922.172C60.094,965.109,60.094,1008.047,60.094,1035.016C60.094,1061.984,60.094,1072.984,60.094,1078.484L60.094,1083.984\" id=\"L_Budget_Polyester_0\" class=\" edge-thickness-normal edge-pattern-solid edge-thickness-normal edge-pattern-solid flowchart-link\" style=\"\" marker-end=\"url(#mermaid-svg_flowchart-v2-pointEnd)\"/><path d=\"M406.383,230.144L413.071,241.334C419.759,252.523,433.136,274.902,439.898,291.675C446.661,308.448,446.809,319.615,446.884,325.198L446.958,330.782\" id=\"L_Budget_Summer_0\" class=\" edge-thickness-normal edge-pattern-solid edge-thickness-normal edge-pattern-solid flowchart-link\" style=\"\" marker-end=\"url(#mermaid-svg_flowchart-v2-pointEnd)\"/><path d=\"M488.44,456.197L501.896,469.185C515.353,482.173,542.266,508.149,555.797,526.72C569.329,545.292,569.477,556.459,569.552,562.042L569.626,567.625\" id=\"L_Summer_Casual_0\" class=\" edge-thickness-normal edge-pattern-solid edge-thickness-normal edge-pattern-solid flowchart-link\" style=\"\" marker-end=\"url(#mermaid-svg_flowchart-v2-pointEnd)\"/><path d=\"M398.002,448.615L376.242,462.867C354.483,477.118,310.964,505.622,289.205,541.476C267.445,577.331,267.445,620.536,267.445,663.742C267.445,706.948,267.445,750.154,267.522,779.072C267.598,807.99,267.751,822.62,267.827,829.935L267.904,837.25\" id=\"L_Summer_Winter_0\" class=\" edge-thickness-normal edge-pattern-solid edge-thickness-normal edge-pattern-solid flowchart-link\" style=\"\" marker-end=\"url(#mermaid-svg_flowchart-v2-pointEnd)\"/><path d=\"M240.689,976.837L234.345,989.195C228.001,1001.553,215.313,1026.269,208.969,1044.126C202.625,1061.984,202.625,1072.984,202.625,1078.484L202.625,1083.984\" id=\"L_Winter_Wool_0\" class=\" edge-thickness-normal edge-pattern-solid edge-thickness-normal edge-pattern-solid flowchart-link\" style=\"\" marker-end=\"url(#mermaid-svg_flowchart-v2-pointEnd)\"/><path d=\"M295.202,976.837L301.379,989.195C307.557,1001.553,319.911,1026.269,326.088,1044.126C332.266,1061.984,332.266,1072.984,332.266,1078.484L332.266,1083.984\" id=\"L_Winter_Cotton_0\" class=\" edge-thickness-normal edge-pattern-solid edge-thickness-normal edge-pattern-solid flowchart-link\" style=\"\" marker-end=\"url(#mermaid-svg_flowchart-v2-pointEnd)\"/><path d=\"M525.954,713.134L513.838,726.505C501.722,739.876,477.49,766.617,465.374,801.457C453.258,836.297,453.258,879.234,453.258,922.172C453.258,965.109,453.258,1008.047,453.258,1035.016C453.258,1061.984,453.258,1072.984,453.258,1078.484L453.258,1083.984\" id=\"L_Casual_Flax_0\" class=\" edge-thickness-normal edge-pattern-solid edge-thickness-normal edge-pattern-solid flowchart-link\" style=\"\" marker-end=\"url(#mermaid-svg_flowchart-v2-pointEnd)\"/><path d=\"M601.654,724.886L607.631,736.298C613.609,747.71,625.564,770.535,631.616,787.53C637.668,804.526,637.817,815.693,637.892,821.276L637.966,826.86\" id=\"L_Casual_Formal_0\" class=\" edge-thickness-normal edge-pattern-solid edge-thickness-normal edge-pattern-solid flowchart-link\" style=\"\" marker-end=\"url(#mermaid-svg_flowchart-v2-pointEnd)\"/><path d=\"M608.346,984.811L602.957,995.84C597.567,1006.869,586.787,1028.927,581.398,1045.455C576.008,1061.984,576.008,1072.984,576.008,1078.484L576.008,1083.984\" id=\"L_Formal_Silk_0\" class=\" edge-thickness-normal edge-pattern-solid edge-thickness-normal edge-pattern-solid flowchart-link\" style=\"\" marker-end=\"url(#mermaid-svg_flowchart-v2-pointEnd)\"/><path d=\"M667.693,984.811L672.916,995.84C678.139,1006.869,688.585,1028.927,693.808,1045.455C699.031,1061.984,699.031,1072.984,699.031,1078.484L699.031,1083.984\" id=\"L_Formal_Neulon_0\" class=\" edge-thickness-normal edge-pattern-solid edge-thickness-normal edge-pattern-solid flowchart-link\" style=\"\" marker-end=\"url(#mermaid-svg_flowchart-v2-pointEnd)\"/><path d=\"M60.094,1126.984L60.094,1131.151C60.094,1135.318,60.094,1143.651,109.496,1154.374C158.898,1165.097,257.703,1178.209,307.105,1184.765L356.507,1191.322\" id=\"L_Polyester_End_0\" class=\" edge-thickness-normal edge-pattern-solid edge-thickness-normal edge-pattern-solid flowchart-link\" style=\"\" marker-end=\"url(#mermaid-svg_flowchart-v2-pointEnd)\"/><path d=\"M202.625,1126.984L202.625,1131.151C202.625,1135.318,202.625,1143.651,228.283,1153.74C253.942,1163.83,305.258,1175.675,330.917,1181.598L356.575,1187.52\" id=\"L_Wool_End_0\" class=\" edge-thickness-normal edge-pattern-solid edge-thickness-normal edge-pattern-solid flowchart-link\" style=\"\" marker-end=\"url(#mermaid-svg_flowchart-v2-pointEnd)\"/><path d=\"M332.266,1126.984L332.266,1131.151C332.266,1135.318,332.266,1143.651,337.633,1151.6C343.001,1159.55,353.736,1167.115,359.103,1170.898L364.47,1174.68\" id=\"L_Cotton_End_0\" class=\" edge-thickness-normal edge-pattern-solid edge-thickness-normal edge-pattern-solid flowchart-link\" style=\"\" marker-end=\"url(#mermaid-svg_flowchart-v2-pointEnd)\"/><path d=\"M453.258,1126.984L453.258,1131.151C453.258,1135.318,453.258,1143.651,448.37,1151.578C443.482,1159.505,433.706,1167.025,428.818,1170.785L423.93,1174.545\" id=\"L_Flax_End_0\" class=\" edge-thickness-normal edge-pattern-solid edge-thickness-normal edge-pattern-solid flowchart-link\" style=\"\" marker-end=\"url(#mermaid-svg_flowchart-v2-pointEnd)\"/><path d=\"M576.008,1126.984L576.008,1131.151C576.008,1135.318,576.008,1143.651,552.378,1153.64C528.749,1163.629,481.49,1175.274,457.861,1181.096L434.231,1186.919\" id=\"L_Silk_End_0\" class=\" edge-thickness-normal edge-pattern-solid edge-thickness-normal edge-pattern-solid flowchart-link\" style=\"\" marker-end=\"url(#mermaid-svg_flowchart-v2-pointEnd)\"/><path d=\"M699.031,1126.984L699.031,1131.151C699.031,1135.318,699.031,1143.651,654.91,1154.284C610.789,1164.917,522.547,1177.851,478.426,1184.317L434.305,1190.784\" id=\"L_Neulon_End_0\" class=\" edge-thickness-normal edge-pattern-solid edge-thickness-normal edge-pattern-solid flowchart-link\" style=\"\" marker-end=\"url(#mermaid-svg_flowchart-v2-pointEnd)\"/></g><g class=\"edgeLabels\"><g class=\"edgeLabel\"><g class=\"label\" transform=\"translate(0, 0)\"><foreignObject width=\"0\" height=\"0\"><div xmlns=\"http://www.w3.org/1999/xhtml\" class=\"labelBkg\" style=\"display: table-cell; white-space: nowrap; line-height: 1.5; max-width: 200px; text-align: center;\"><span class=\"edgeLabel \"></span></div></foreignObject></g></g><g class=\"edgeLabel\" transform=\"translate(60.09375, 663.7421875)\"><g class=\"label\" transform=\"translate(-9.8671875, -12)\"><foreignObject width=\"19.734375\" height=\"24\"><div xmlns=\"http://www.w3.org/1999/xhtml\" class=\"labelBkg\" style=\"display: table-cell; white-space: nowrap; line-height: 1.5; max-width: 200px; text-align: center;\"><span class=\"edgeLabel \"><p>Да</p></span></div></foreignObject></g></g><g class=\"edgeLabel\" transform=\"translate(446.51171875, 297.28125)\"><g class=\"label\" transform=\"translate(-13.625, -12)\"><foreignObject width=\"27.25\" height=\"24\"><div xmlns=\"http://www.w3.org/1999/xhtml\" class=\"labelBkg\" style=\"display: table-cell; white-space: nowrap; line-height: 1.5; max-width: 200px; text-align: center;\"><span class=\"edgeLabel \"><p>Нет</p></span></div></foreignObject></g></g><g class=\"edgeLabel\" transform=\"translate(569.1796875, 534.125)\"><g class=\"label\" transform=\"translate(-9.8671875, -12)\"><foreignObject width=\"19.734375\" height=\"24\"><div xmlns=\"http://www.w3.org/1999/xhtml\" class=\"labelBkg\" style=\"display: table-cell; white-space: nowrap; line-height: 1.5; max-width: 200px; text-align: center;\"><span class=\"edgeLabel \"><p>Да</p></span></div></foreignObject></g></g><g class=\"edgeLabel\" transform=\"translate(267.4453125, 663.7421875)\"><g class=\"label\" transform=\"translate(-13.625, -12)\"><foreignObject width=\"27.25\" height=\"24\"><div xmlns=\"http://www.w3.org/1999/xhtml\" class=\"labelBkg\" style=\"display: table-cell; white-space: nowrap; line-height: 1.5; max-width: 200px; text-align: center;\"><span class=\"edgeLabel \"><p>Нет</p></span></div></foreignObject></g></g><g class=\"edgeLabel\" transform=\"translate(202.625, 1050.984375)\"><g class=\"label\" transform=\"translate(-9.8671875, -12)\"><foreignObject width=\"19.734375\" height=\"24\"><div xmlns=\"http://www.w3.org/1999/xhtml\" class=\"labelBkg\" style=\"display: table-cell; white-space: nowrap; line-height: 1.5; max-width: 200px; text-align: center;\"><span class=\"edgeLabel \"><p>Да</p></span></div></foreignObject></g></g><g class=\"edgeLabel\" transform=\"translate(332.265625, 1050.984375)\"><g class=\"label\" transform=\"translate(-13.625, -12)\"><foreignObject width=\"27.25\" height=\"24\"><div xmlns=\"http://www.w3.org/1999/xhtml\" class=\"labelBkg\" style=\"display: table-cell; white-space: nowrap; line-height: 1.5; max-width: 200px; text-align: center;\"><span class=\"edgeLabel \"><p>Нет</p></span></div></foreignObject></g></g><g class=\"edgeLabel\" transform=\"translate(453.2578125, 922.171875)\"><g class=\"label\" transform=\"translate(-9.8671875, -12)\"><foreignObject width=\"19.734375\" height=\"24\"><div xmlns=\"http://www.w3.org/1999/xhtml\" class=\"labelBkg\" style=\"display: table-cell; white-space: nowrap; line-height: 1.5; max-width: 200px; text-align: center;\"><span class=\"edgeLabel \"><p>Да</p></span></div></foreignObject></g></g><g class=\"edgeLabel\" transform=\"translate(637.51953125, 793.359375)\"><g class=\"label\" transform=\"translate(-13.625, -12)\"><foreignObject width=\"27.25\" height=\"24\"><div xmlns=\"http://www.w3.org/1999/xhtml\" class=\"labelBkg\" style=\"display: table-cell; white-space: nowrap; line-height: 1.5; max-width: 200px; text-align: center;\"><span class=\"edgeLabel \"><p>Нет</p></span></div></foreignObject></g></g><g class=\"edgeLabel\" transform=\"translate(576.0078125, 1050.984375)\"><g class=\"label\" transform=\"translate(-9.8671875, -12)\"><foreignObject width=\"19.734375\" height=\"24\"><div xmlns=\"http://www.w3.org/1999/xhtml\" class=\"labelBkg\" style=\"display: table-cell; white-space: nowrap; line-height: 1.5; max-width: 200px; text-align: center;\"><span class=\"edgeLabel \"><p>Да</p></span></div></foreignObject></g></g><g class=\"edgeLabel\" transform=\"translate(699.03125, 1050.984375)\"><g class=\"label\" transform=\"translate(-13.625, -12)\"><foreignObject width=\"27.25\" height=\"24\"><div xmlns=\"http://www.w3.org/1999/xhtml\" class=\"labelBkg\" style=\"display: table-cell; white-space: nowrap; line-height: 1.5; max-width: 200px; text-align: center;\"><span class=\"edgeLabel \"><p>Нет</p></span></div></foreignObject></g></g><g class=\"edgeLabel\"><g class=\"label\" transform=\"translate(0, 0)\"><foreignObject width=\"0\" height=\"0\"><div xmlns=\"http://www.w3.org/1999/xhtml\" class=\"labelBkg\" style=\"display: table-cell; white-space: nowrap; line-height: 1.5; max-width: 200px; text-align: center;\"><span class=\"edgeLabel \"></span></div></foreignObject></g></g><g class=\"edgeLabel\"><g class=\"label\" transform=\"translate(0, 0)\"><foreignObject width=\"0\" height=\"0\"><div xmlns=\"http://www.w3.org/1999/xhtml\" class=\"labelBkg\" style=\"display: table-cell; white-space: nowrap; line-height: 1.5; max-width: 200px; text-align: center;\"><span class=\"edgeLabel \"></span></div></foreignObject></g></g><g class=\"edgeLabel\"><g class=\"label\" transform=\"translate(0, 0)\"><foreignObject width=\"0\" height=\"0\"><div xmlns=\"http://www.w3.org/1999/xhtml\" class=\"labelBkg\" style=\"display: table-cell; white-space: nowrap; line-height: 1.5; max-width: 200px; text-align: center;\"><span class=\"edgeLabel \"></span></div></foreignObject></g></g><g class=\"edgeLabel\"><g class=\"label\" transform=\"translate(0, 0)\"><foreignObject width=\"0\" height=\"0\"><div xmlns=\"http://www.w3.org/1999/xhtml\" class=\"labelBkg\" style=\"display: table-cell; white-space: nowrap; line-height: 1.5; max-width: 200px; text-align: center;\"><span class=\"edgeLabel \"></span></div></foreignObject></g></g><g class=\"edgeLabel\"><g class=\"label\" transform=\"translate(0, 0)\"><foreignObject width=\"0\" height=\"0\"><div xmlns=\"http://www.w3.org/1999/xhtml\" class=\"labelBkg\" style=\"display: table-cell; white-space: nowrap; line-height: 1.5; max-width: 200px; text-align: center;\"><span class=\"edgeLabel \"></span></div></foreignObject></g></g><g class=\"edgeLabel\"><g class=\"label\" transform=\"translate(0, 0)\"><foreignObject width=\"0\" height=\"0\"><div xmlns=\"http://www.w3.org/1999/xhtml\" class=\"labelBkg\" style=\"display: table-cell; white-space: nowrap; line-height: 1.5; max-width: 200px; text-align: center;\"><span class=\"edgeLabel \"></span></div></foreignObject></g></g></g><g class=\"nodes\"><g class=\"node default  \" id=\"flowchart-Start-0\" transform=\"translate(375.24609375, 27.5)\"><rect class=\"basic label-container\" style=\"\" rx=\"19.5\" ry=\"19.5\" x=\"-40.25\" y=\"-19.5\" width=\"80.5\" height=\"39\"/><g class=\"label\" style=\"\" transform=\"translate(-27.875, -12)\"><rect/><foreignObject width=\"55.75\" height=\"24\"><div xmlns=\"http://www.w3.org/1999/xhtml\" style=\"display: table-cell; white-space: nowrap; line-height: 1.5; max-width: 200px; text-align: center;\"><span class=\"nodeLabel \"><p>Начало</p></span></div></foreignObject></g></g><g class=\"node default  \" id=\"flowchart-End-1\" transform=\"translate(395.41015625, 1196.484375)\"><rect class=\"basic label-container\" style=\"\" rx=\"19.5\" ry=\"19.5\" x=\"-34.9375\" y=\"-19.5\" width=\"69.875\" height=\"39\"/><g class=\"label\" style=\"\" transform=\"translate(-22.5625, -12)\"><rect/><foreignObject width=\"45.125\" height=\"24\"><div xmlns=\"http://www.w3.org/1999/xhtml\" style=\"display: table-cell; white-space: nowrap; line-height: 1.5; max-width: 200px; text-align: center;\"><span class=\"nodeLabel \"><p>Конец</p></span></div></foreignObject></g></g><g class=\"node default  \" id=\"flowchart-Budget-2\" transform=\"translate(375.24609375, 178.640625)\"><polygon points=\"81.640625,0 163.28125,-81.640625 81.640625,-163.28125 0,-81.640625\" class=\"label-container\" transform=\"translate(-81.640625,81.640625)\"/><g class=\"label\" style=\"\" transform=\"translate(-42.640625, -24)\"><rect/><foreignObject width=\"85.28125\" height=\"48\"><div xmlns=\"http://www.w3.org/1999/xhtml\" style=\"display: table-cell; white-space: nowrap; line-height: 1.5; max-width: 200px; text-align: center;\"><span class=\"nodeLabel \"><p>Бюджет<br />ограничен?</p></span></div></foreignObject></g></g><g class=\"node default  \" id=\"flowchart-Summer-3\" transform=\"translate(446.51171875, 415.703125)\"><polygon points=\"81.421875,0 162.84375,-81.421875 81.421875,-162.84375 0,-81.421875\" class=\"label-container\" transform=\"translate(-81.421875,81.421875)\"/><g class=\"label\" style=\"\" transform=\"translate(-42.421875, -24)\"><rect/><foreignObject width=\"84.84375\" height=\"48\"><div xmlns=\"http://www.w3.org/1999/xhtml\" style=\"display: table-cell; white-space: nowrap; line-height: 1.5; max-width: 200px; text-align: center;\"><span class=\"nodeLabel \"><p>Время года<br />лето?</p></span></div></foreignObject></g></g><g class=\"node default  \" id=\"flowchart-Winter-4\" transform=\"translate(267.4453125, 922.171875)\"><polygon points=\"81.421875,0 162.84375,-81.421875 81.421875,-162.84375 0,-81.421875\" class=\"label-container\" transform=\"translate(-81.421875,81.421875)\"/><g class=\"label\" style=\"\" transform=\"translate(-42.421875, -24)\"><rect/><foreignObject width=\"84.84375\" height=\"48\"><div xmlns=\"http://www.w3.org/1999/xhtml\" style=\"display: table-cell; white-space: nowrap; line-height: 1.5; max-width: 200px; text-align: center;\"><span class=\"nodeLabel \"><p>Время года<br />зима?</p></span></div></foreignObject></g></g><g class=\"node default  \" id=\"flowchart-Casual-5\" transform=\"translate(569.1796875, 663.7421875)\"><polygon points=\"92.6171875,0 185.234375,-92.6171875 92.6171875,-185.234375 0,-92.6171875\" class=\"label-container\" transform=\"translate(-92.6171875,92.6171875)\"/><g class=\"label\" style=\"\" transform=\"translate(-53.6171875, -24)\"><rect/><foreignObject width=\"107.234375\" height=\"48\"><div xmlns=\"http://www.w3.org/1999/xhtml\" style=\"display: table-cell; white-space: nowrap; line-height: 1.5; max-width: 200px; text-align: center;\"><span class=\"nodeLabel \"><p>Повседневная<br />одежда?</p></span></div></foreignObject></g></g><g class=\"node default  \" id=\"flowchart-Formal-6\" transform=\"translate(637.51953125, 922.171875)\"><polygon points=\"91.8125,0 183.625,-91.8125 91.8125,-183.625 0,-91.8125\" class=\"label-container\" transform=\"translate(-91.8125,91.8125)\"/><g class=\"label\" style=\"\" transform=\"translate(-52.8125, -24)\"><rect/><foreignObject width=\"105.625\" height=\"48\"><div xmlns=\"http://www.w3.org/1999/xhtml\" style=\"display: table-cell; white-space: nowrap; line-height: 1.5; max-width: 200px; text-align: center;\"><span class=\"nodeLabel \"><p>Официальная<br />одежда?</p></span></div></foreignObject></g></g><g class=\"node default  \" id=\"flowchart-Polyester-7\" transform=\"translate(60.09375, 1107.484375)\"><rect class=\"basic label-container\" style=\"\" rx=\"19.5\" ry=\"19.5\" x=\"-52.09375\" y=\"-19.5\" width=\"104.1875\" height=\"39\"/><g class=\"label\" style=\"\" transform=\"translate(-39.71875, -12)\"><rect/><foreignObject width=\"79.4375\" height=\"24\"><div xmlns=\"http://www.w3.org/1999/xhtml\" style=\"display: table-cell; white-space: nowrap; line-height: 1.5; max-width: 200px; text-align: center;\"><span class=\"nodeLabel \"><p>Полиэстер</p></span></div></foreignObject></g></g><g class=\"node default  \" id=\"flowchart-Cotton-8\" transform=\"translate(332.265625, 1107.484375)\"><rect class=\"basic label-container\" style=\"\" rx=\"19.5\" ry=\"19.5\" x=\"-39.203125\" y=\"-19.5\" width=\"78.40625\" height=\"39\"/><g class=\"label\" style=\"\" transform=\"translate(-26.828125, -12)\"><rect/><foreignObject width=\"53.65625\" height=\"24\"><div xmlns=\"http://www.w3.org/1999/xhtml\" style=\"display: table-cell; white-space: nowrap; line-height: 1.5; max-width: 200px; text-align: center;\"><span class=\"nodeLabel \"><p>Хлопок</p></span></div></foreignObject></g></g><g class=\"node default  \" id=\"flowchart-Wool-9\" transform=\"translate(202.625, 1107.484375)\"><rect class=\"basic label-container\" style=\"\" rx=\"19.5\" ry=\"19.5\" x=\"-40.4375\" y=\"-19.5\" width=\"80.875\" height=\"39\"/><g class=\"label\" style=\"\" transform=\"translate(-28.0625, -12)\"><rect/><foreignObject width=\"56.125\" height=\"24\"><div xmlns=\"http://www.w3.org/1999/xhtml\" style=\"display: table-cell; white-space: nowrap; line-height: 1.5; max-width: 200px; text-align: center;\"><span class=\"nodeLabel \"><p>Шерсть</p></span></div></foreignObject></g></g><g class=\"node default  \" id=\"flowchart-Flax-10\" transform=\"translate(453.2578125, 1107.484375)\"><rect class=\"basic label-container\" style=\"\" rx=\"19.5\" ry=\"19.5\" x=\"-26.4921875\" y=\"-19.5\" width=\"52.984375\" height=\"39\"/><g class=\"label\" style=\"\" transform=\"translate(-14.1171875, -12)\"><rect/><foreignObject width=\"28.234375\" height=\"24\"><div xmlns=\"http://www.w3.org/1999/xhtml\" style=\"display: table-cell; white-space: nowrap; line-height: 1.5; max-width: 200px; text-align: center;\"><span class=\"nodeLabel \"><p>Лён</p></span></div></foreignObject></g></g><g class=\"node default  \" id=\"flowchart-Silk-11\" transform=\"translate(576.0078125, 1107.484375)\"><rect class=\"basic label-container\" style=\"\" rx=\"19.5\" ry=\"19.5\" x=\"-32.328125\" y=\"-19.5\" width=\"64.65625\" height=\"39\"/><g class=\"label\" style=\"\" transform=\"translate(-19.953125, -12)\"><rect/><foreignObject width=\"39.90625\" height=\"24\"><div xmlns=\"http://www.w3.org/1999/xhtml\" style=\"display: table-cell; white-space: nowrap; line-height: 1.5; max-width: 200px; text-align: center;\"><span class=\"nodeLabel \"><p>Шёлк</p></span></div></foreignObject></g></g><g class=\"node default  \" id=\"flowchart-Neulon-12\" transform=\"translate(699.03125, 1107.484375)\"><rect class=\"basic label-container\" style=\"\" rx=\"19.5\" ry=\"19.5\" x=\"-40.6953125\" y=\"-19.5\" width=\"81.390625\" height=\"39\"/><g class=\"label\" style=\"\" transform=\"translate(-28.3203125, -12)\"><rect/><foreignObject width=\"56.640625\" height=\"24\"><div xmlns=\"http://www.w3.org/1999/xhtml\" style=\"display: table-cell; white-space: nowrap; line-height: 1.5; max-width: 200px; text-align: center;\"><span class=\"nodeLabel \"><p>Нейлон</p></span></div></foreignObject></g></g></g></g></g></svg>"
      ],
      "text/plain": [
       "<mermaid.__main__.Mermaid at 0x103ba42d0>"
      ]
     },
     "metadata": {},
     "output_type": "display_data"
    }
   ],
   "source": [
    "%%mermaidjs\n",
    "---\n",
    "theme : dark\n",
    "---\n",
    "flowchart TD\n",
    "    Start([\"Начало\"])\n",
    "    End([\"Конец\"])\n",
    "\n",
    "    Budget{\"Бюджет<br>ограничен?\"}\n",
    "    Summer{\"Время года<br>лето?\"}\n",
    "    Winter{\"Время года<br>зима?\"}\n",
    "    Casual{\"Повседневная<br>одежда?\"}\n",
    "    Formal{\"Официальная<br>одежда?\"}\n",
    "\n",
    "    Polyester([\"Полиэстер\"])\n",
    "    Cotton([\"Хлопок\"])\n",
    "    Wool([\"Шерсть\"])\n",
    "    Flax([\"Лён\"])\n",
    "    Silk([\"Шёлк\"])\n",
    "    Neulon([\"Нейлон\"])\n",
    "\n",
    "    Start --> Budget\n",
    "    Budget -- Да --> Polyester\n",
    "    Budget -- Нет --> Summer\n",
    "    \n",
    "    Summer -- Да --> Casual\n",
    "    Summer -- Нет --> Winter\n",
    "    \n",
    "    Winter -- Да --> Wool\n",
    "    Winter -- Нет --> Cotton\n",
    "    \n",
    "    Casual -- Да --> Flax\n",
    "    Casual -- Нет --> Formal\n",
    "\n",
    "    Formal -- Да --> Silk\n",
    "    Formal -- Нет --> Neulon\n",
    "    \n",
    "    Polyester --> End\n",
    "    Wool --> End\n",
    "    Cotton --> End\n",
    "    Flax --> End\n",
    "    Silk --> End\n",
    "    Neulon --> End\n"
   ]
  },
  {
   "cell_type": "markdown",
   "id": "12ae2606",
   "metadata": {},
   "source": [
    "## Реализация на языке Python\n",
    "\n",
    "Для реализации алгоритма использованы современные функции Python и функциональный стиль программирования. Программный код и результаты отладки будут так же представлены в среде Jupyter."
   ]
  },
  {
   "cell_type": "markdown",
   "id": "3e1a1d98",
   "metadata": {},
   "source": [
    "### Запись с набором параметров выбора"
   ]
  },
  {
   "cell_type": "code",
   "execution_count": 3,
   "id": "5a993bf0",
   "metadata": {},
   "outputs": [],
   "source": [
    "from dataclasses import dataclass\n",
    "\n",
    "@dataclass\n",
    "class ClothesParameters:\n",
    "    low_budget: bool\n",
    "    season: str\n",
    "    purpose: str"
   ]
  },
  {
   "cell_type": "markdown",
   "id": "79cca6b3",
   "metadata": {},
   "source": [
    "### Функция для выбора материала"
   ]
  },
  {
   "cell_type": "code",
   "execution_count": 4,
   "id": "868dcebb",
   "metadata": {},
   "outputs": [],
   "source": [
    "def get_clothes_material(params: ClothesParameters) -> str:\n",
    "    match params:\n",
    "        case ClothesParameters(low_budget=True):\n",
    "            return \"polyester\"\n",
    "        case ClothesParameters(season=\"winter\"):\n",
    "            return \"wool\"\n",
    "        case ClothesParameters(season=\"summer\", purpose=\"casual\"):\n",
    "            return \"flax\"\n",
    "        case ClothesParameters(purpose=\"official\"):\n",
    "            return \"silk\"\n",
    "        case ClothesParameters(purpose=\"casual\"):\n",
    "            return \"neulon\"\n",
    "        case ClothesParameters():\n",
    "            return \"cotton\"\n",
    "\n",
    "    raise ValueError(\"Invalid clothes parameters\")"
   ]
  },
  {
   "cell_type": "markdown",
   "id": "01dfef11",
   "metadata": {},
   "source": [
    "### Проверка работоспособности\n",
    "\n",
    "В данном примере у системы запрошен материал одежды для повседневного использования летом без ограничений по бюджету. Решением системы стал лён - подходящий под описанные параметры материал."
   ]
  },
  {
   "cell_type": "code",
   "execution_count": 5,
   "id": "f9da70bd-c95d-49aa-ac20-8c9bec7804be",
   "metadata": {},
   "outputs": [
    {
     "data": {
      "text/plain": [
       "'flax'"
      ]
     },
     "execution_count": 5,
     "metadata": {},
     "output_type": "execute_result"
    }
   ],
   "source": [
    "get_clothes_material(ClothesParameters(low_budget=False, season=\"summer\", purpose=\"casual\"))"
   ]
  },
  {
   "cell_type": "markdown",
   "id": "c0f1e54b",
   "metadata": {},
   "source": [
    "### Таблица тестов\n",
    "\n",
    "С помощью pandas выполнена составлена таблица, в которой отражены параметры выбора материала для изготовления одежды и решение экспертной системы в выборе материала."
   ]
  },
  {
   "cell_type": "code",
   "execution_count": 6,
   "id": "72324b5f-5d61-485a-a7bb-b02feb985443",
   "metadata": {},
   "outputs": [
    {
     "data": {
      "text/html": [
       "<div>\n",
       "<style scoped>\n",
       "    .dataframe tbody tr th:only-of-type {\n",
       "        vertical-align: middle;\n",
       "    }\n",
       "\n",
       "    .dataframe tbody tr th {\n",
       "        vertical-align: top;\n",
       "    }\n",
       "\n",
       "    .dataframe thead th {\n",
       "        text-align: right;\n",
       "    }\n",
       "</style>\n",
       "<table border=\"1\" class=\"dataframe\">\n",
       "  <thead>\n",
       "    <tr style=\"text-align: right;\">\n",
       "      <th></th>\n",
       "      <th>low_budget</th>\n",
       "      <th>season</th>\n",
       "      <th>purpose</th>\n",
       "      <th>decision</th>\n",
       "    </tr>\n",
       "  </thead>\n",
       "  <tbody>\n",
       "    <tr>\n",
       "      <th>0</th>\n",
       "      <td>True</td>\n",
       "      <td>winter</td>\n",
       "      <td>casual</td>\n",
       "      <td>polyester</td>\n",
       "    </tr>\n",
       "    <tr>\n",
       "      <th>1</th>\n",
       "      <td>False</td>\n",
       "      <td>summer</td>\n",
       "      <td>casual</td>\n",
       "      <td>flax</td>\n",
       "    </tr>\n",
       "    <tr>\n",
       "      <th>2</th>\n",
       "      <td>False</td>\n",
       "      <td>autumn</td>\n",
       "      <td>official</td>\n",
       "      <td>silk</td>\n",
       "    </tr>\n",
       "    <tr>\n",
       "      <th>3</th>\n",
       "      <td>False</td>\n",
       "      <td>summer</td>\n",
       "      <td>sport</td>\n",
       "      <td>cotton</td>\n",
       "    </tr>\n",
       "    <tr>\n",
       "      <th>4</th>\n",
       "      <td>False</td>\n",
       "      <td>winter</td>\n",
       "      <td>sport</td>\n",
       "      <td>wool</td>\n",
       "    </tr>\n",
       "    <tr>\n",
       "      <th>5</th>\n",
       "      <td>False</td>\n",
       "      <td>autumn</td>\n",
       "      <td>casual</td>\n",
       "      <td>neulon</td>\n",
       "    </tr>\n",
       "  </tbody>\n",
       "</table>\n",
       "</div>"
      ],
      "text/plain": [
       "   low_budget  season   purpose   decision\n",
       "0        True  winter    casual  polyester\n",
       "1       False  summer    casual       flax\n",
       "2       False  autumn  official       silk\n",
       "3       False  summer     sport     cotton\n",
       "4       False  winter     sport       wool\n",
       "5       False  autumn    casual     neulon"
      ]
     },
     "execution_count": 6,
     "metadata": {},
     "output_type": "execute_result"
    }
   ],
   "source": [
    "import pandas\n",
    "\n",
    "cases = [\n",
    "    ClothesParameters(True,  \"winter\", \"casual\"),    \n",
    "    ClothesParameters(False, \"summer\", \"casual\"),    \n",
    "    ClothesParameters(False, \"autumn\", \"official\"),    \n",
    "    ClothesParameters(False, \"summer\", \"sport\"),    \n",
    "    ClothesParameters(False, \"winter\", \"sport\"),    \n",
    "    ClothesParameters(False, \"autumn\", \"casual\"),    \n",
    "]\n",
    "\n",
    "data = [c.__dict__ | {\"decision\": get_clothes_material(c)} for c in cases]\n",
    "\n",
    "pandas.DataFrame(data)"
   ]
  },
  {
   "cell_type": "markdown",
   "id": "7f37f65b",
   "metadata": {},
   "source": [
    "# Вывод\n",
    "\n",
    "В данной работе разработана экспертная система с чёткой логикой, позволяющая по заданным параметрам определить наиболее подходящий материал для изготовления одежды. Недостатком системы является необходимость самостоятельной словесной оценки каждого материала, поэтому её применение в реальной практике ограничено."
   ]
  }
 ],
 "metadata": {
  "kernelspec": {
   "display_name": "Python 3 (ipykernel)",
   "language": "python",
   "name": "python3"
  },
  "language_info": {
   "codemirror_mode": {
    "name": "ipython",
    "version": 3
   },
   "file_extension": ".py",
   "mimetype": "text/x-python",
   "name": "python",
   "nbconvert_exporter": "python",
   "pygments_lexer": "ipython3",
   "version": "3.13.3"
  }
 },
 "nbformat": 4,
 "nbformat_minor": 5
}
