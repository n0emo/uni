{
 "cells": [
  {
   "cell_type": "markdown",
   "id": "63ba7fdc",
   "metadata": {},
   "source": [
    "# Задание\n",
    "\n",
    "Разработать нейросеть, аппроксимирующую сумму трёх переменных"
   ]
  },
  {
   "cell_type": "markdown",
   "id": "797d3a19",
   "metadata": {},
   "source": [
    "# Ход работы"
   ]
  },
  {
   "cell_type": "markdown",
   "id": "c414ed57",
   "metadata": {},
   "source": [
    "## Использованные библиотеки"
   ]
  },
  {
   "cell_type": "code",
   "execution_count": 1,
   "id": "8b2d0e82",
   "metadata": {},
   "outputs": [],
   "source": [
    "import numpy as np\n",
    "import torch\n",
    "import torch.nn as nn\n",
    "import torch.optim as optim\n",
    "import pandas as pd"
   ]
  },
  {
   "cell_type": "markdown",
   "id": "89b93f53",
   "metadata": {},
   "source": [
    "## Подготовка тренировочных данных\n",
    "\n",
    "В качестве набора тренировочных данных выбраны случайные тройки чисел в диапазоне $[0; 1]$ (входной сигнал) и их суммы в диапазоне $[0; 3]$ (выходной сигнал). Примеров сгенерировано 50000"
   ]
  },
  {
   "cell_type": "code",
   "execution_count": 2,
   "id": "a80ba556",
   "metadata": {},
   "outputs": [],
   "source": [
    "SEED = 69420\n",
    "np.random.seed(SEED)\n",
    "torch.manual_seed(SEED)\n",
    "\n",
    "inputs = np.random.rand(50000, 3).astype(np.float32)\n",
    "targets = np.array(np.sum(inputs, axis=-1))\n",
    "\n",
    "X_train = torch.tensor(inputs)\n",
    "y_train = torch.tensor(targets).reshape(-1, 1)\n",
    "X_test = torch.tensor(inputs)\n",
    "y_test = torch.tensor(targets).reshape(-1, 1)"
   ]
  },
  {
   "cell_type": "markdown",
   "id": "b6fc2e5b",
   "metadata": {},
   "source": [
    "## Определение модели\n",
    "\n",
    "Для данной работы составлена модель из трёх слоёв"
   ]
  },
  {
   "cell_type": "code",
   "execution_count": 3,
   "id": "42668471",
   "metadata": {},
   "outputs": [
    {
     "data": {
      "text/plain": [
       "Baseline(\n",
       "  (layer1): Linear(in_features=3, out_features=64, bias=True)\n",
       "  (layer2): Linear(in_features=64, out_features=32, bias=True)\n",
       "  (layer3): Linear(in_features=32, out_features=1, bias=True)\n",
       ")"
      ]
     },
     "execution_count": 3,
     "metadata": {},
     "output_type": "execute_result"
    }
   ],
   "source": [
    "class Baseline(nn.Module):\n",
    "    def __init__(self):\n",
    "        super().__init__()\n",
    "        self.layer1 = nn.Linear(3, 64)\n",
    "        self.layer2 = nn.Linear(64, 32)\n",
    "        self.layer3 = nn.Linear(32, 1)\n",
    "        \n",
    "    def forward(self, x):\n",
    "        x = torch.relu(self.layer1(x))\n",
    "        x = torch.relu(self.layer2(x))\n",
    "        x = self.layer3(x)\n",
    "        return x\n",
    "\n",
    "\n",
    "model = Baseline()\n",
    "model"
   ]
  },
  {
   "cell_type": "markdown",
   "id": "41e395f1",
   "metadata": {},
   "source": [
    "## Обучение модели"
   ]
  },
  {
   "cell_type": "code",
   "execution_count": 4,
   "id": "9f6d1e3b",
   "metadata": {},
   "outputs": [
    {
     "name": "stdout",
     "output_type": "stream",
     "text": [
      "Epoch [100/1000], Loss: 0.016611\n",
      "Epoch [200/1000], Loss: 0.000554\n",
      "Epoch [300/1000], Loss: 0.000324\n",
      "Epoch [400/1000], Loss: 0.000234\n",
      "Epoch [500/1000], Loss: 0.000183\n",
      "Epoch [600/1000], Loss: 0.000150\n",
      "Epoch [700/1000], Loss: 0.000126\n",
      "Epoch [800/1000], Loss: 0.000108\n",
      "Epoch [900/1000], Loss: 0.000097\n",
      "Epoch [1000/1000], Loss: 0.000088\n"
     ]
    }
   ],
   "source": [
    "optimizer = optim.Adam(model.parameters(), lr=0.001)\n",
    "criterion = nn.MSELoss()\n",
    " \n",
    "model.train()\n",
    "n_epochs = 1000\n",
    "for epoch in range(n_epochs):\n",
    "    optimizer.zero_grad()\n",
    "    outputs = model(X_train)\n",
    "    loss = criterion(outputs, y_train)\n",
    "    loss.backward()\n",
    "    torch.nn.utils.clip_grad_norm_(model.parameters(), 1.0)  # Gradient clipping\n",
    "    optimizer.step()\n",
    "\n",
    "    if (epoch + 1) % 100 == 0:\n",
    "        print(f'Epoch [{epoch+1}/{n_epochs}], Loss: {loss.item():.6f}')\n"
   ]
  },
  {
   "cell_type": "markdown",
   "id": "e4da7657",
   "metadata": {},
   "source": [
    "## Проверка производительности обученной модели"
   ]
  },
  {
   "cell_type": "code",
   "execution_count": 5,
   "id": "b8279b19",
   "metadata": {},
   "outputs": [
    {
     "data": {
      "text/html": [
       "<div>\n",
       "<style scoped>\n",
       "    .dataframe tbody tr th:only-of-type {\n",
       "        vertical-align: middle;\n",
       "    }\n",
       "\n",
       "    .dataframe tbody tr th {\n",
       "        vertical-align: top;\n",
       "    }\n",
       "\n",
       "    .dataframe thead th {\n",
       "        text-align: right;\n",
       "    }\n",
       "</style>\n",
       "<table border=\"1\" class=\"dataframe\">\n",
       "  <thead>\n",
       "    <tr style=\"text-align: right;\">\n",
       "      <th></th>\n",
       "      <th>A</th>\n",
       "      <th>B</th>\n",
       "      <th>C</th>\n",
       "      <th>A+B+C</th>\n",
       "      <th>Prediction</th>\n",
       "      <th>Error</th>\n",
       "    </tr>\n",
       "  </thead>\n",
       "  <tbody>\n",
       "    <tr>\n",
       "      <th>0</th>\n",
       "      <td>0.20</td>\n",
       "      <td>0.3</td>\n",
       "      <td>0.91</td>\n",
       "      <td>1.41</td>\n",
       "      <td>1.415028</td>\n",
       "      <td>0.005028</td>\n",
       "    </tr>\n",
       "    <tr>\n",
       "      <th>1</th>\n",
       "      <td>0.11</td>\n",
       "      <td>0.9</td>\n",
       "      <td>0.40</td>\n",
       "      <td>1.41</td>\n",
       "      <td>1.411467</td>\n",
       "      <td>0.001467</td>\n",
       "    </tr>\n",
       "    <tr>\n",
       "      <th>2</th>\n",
       "      <td>0.65</td>\n",
       "      <td>0.0</td>\n",
       "      <td>0.20</td>\n",
       "      <td>0.85</td>\n",
       "      <td>0.846405</td>\n",
       "      <td>0.003595</td>\n",
       "    </tr>\n",
       "    <tr>\n",
       "      <th>3</th>\n",
       "      <td>0.80</td>\n",
       "      <td>0.9</td>\n",
       "      <td>1.00</td>\n",
       "      <td>2.70</td>\n",
       "      <td>2.685898</td>\n",
       "      <td>0.014102</td>\n",
       "    </tr>\n",
       "    <tr>\n",
       "      <th>4</th>\n",
       "      <td>1.00</td>\n",
       "      <td>1.0</td>\n",
       "      <td>1.00</td>\n",
       "      <td>3.00</td>\n",
       "      <td>2.976923</td>\n",
       "      <td>0.023077</td>\n",
       "    </tr>\n",
       "    <tr>\n",
       "      <th>5</th>\n",
       "      <td>0.00</td>\n",
       "      <td>0.0</td>\n",
       "      <td>0.00</td>\n",
       "      <td>0.00</td>\n",
       "      <td>0.122521</td>\n",
       "      <td>0.122521</td>\n",
       "    </tr>\n",
       "  </tbody>\n",
       "</table>\n",
       "</div>"
      ],
      "text/plain": [
       "      A    B     C  A+B+C  Prediction     Error\n",
       "0  0.20  0.3  0.91   1.41    1.415028  0.005028\n",
       "1  0.11  0.9  0.40   1.41    1.411467  0.001467\n",
       "2  0.65  0.0  0.20   0.85    0.846405  0.003595\n",
       "3  0.80  0.9  1.00   2.70    2.685898  0.014102\n",
       "4  1.00  1.0  1.00   3.00    2.976923  0.023077\n",
       "5  0.00  0.0  0.00   0.00    0.122521  0.122521"
      ]
     },
     "execution_count": 5,
     "metadata": {},
     "output_type": "execute_result"
    }
   ],
   "source": [
    "model.eval()\n",
    "\n",
    "test_data = [\n",
    "    [0.2 , 0.3, 0.91],\n",
    "    [0.11, 0.9, 0.4 ],\n",
    "    [0.65, 0.0, 0.2 ],\n",
    "    [0.8 , 0.9, 1.0 ],\n",
    "    [1.0 , 1.0, 1.0 ],\n",
    "    [0.0 , 0.0, 0.0 ],\n",
    "]\n",
    "\n",
    "predictions = []\n",
    "with torch.no_grad():\n",
    "    predictions = model(torch.tensor(test_data))\n",
    "\n",
    "data = [\n",
    "    [*input, sum(input), float(output[0]), abs(sum(input) - float(output[0]))]\n",
    "    for input, output in zip(test_data, predictions)\n",
    "]\n",
    "\n",
    "pd.DataFrame(\n",
    "    data,\n",
    "    columns = [\"A\", \"B\", \"C\", \"A+B+C\", \"Prediction\", \"Error\"]\n",
    ")"
   ]
  },
  {
   "cell_type": "markdown",
   "id": "4d26e467",
   "metadata": {},
   "source": [
    "# Вывод\n",
    "\n",
    "В ходе данной работы реализована нейросеть, аппроксимирующая сумму трёк переменных"
   ]
  }
 ],
 "metadata": {
  "kernelspec": {
   "display_name": ".venv",
   "language": "python",
   "name": "python3"
  },
  "language_info": {
   "codemirror_mode": {
    "name": "ipython",
    "version": 3
   },
   "file_extension": ".py",
   "mimetype": "text/x-python",
   "name": "python",
   "nbconvert_exporter": "python",
   "pygments_lexer": "ipython3",
   "version": "3.13.3"
  }
 },
 "nbformat": 4,
 "nbformat_minor": 5
}
