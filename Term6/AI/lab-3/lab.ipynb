{
 "cells": [
  {
   "cell_type": "markdown",
   "id": "eb968e57-2837-4ca4-b711-2db5bda5f0f3",
   "metadata": {},
   "source": [
    "## Ход работы\n",
    "\n",
    "Для разработки блок-схем использован пакет mermaid-py."
   ]
  },
  {
   "cell_type": "code",
   "execution_count": 1,
   "id": "59ded3e9",
   "metadata": {},
   "outputs": [],
   "source": [
    "import mermaid as mmd"
   ]
  },
  {
   "cell_type": "markdown",
   "id": "b55c6fb2",
   "metadata": {},
   "source": [
    "## Блок-схема\n",
    "\n",
    "Представленная блок-схема позволяет получить примерное представление об алгоритме работы программы. Следуя вопросом по этой схеме, можно выбрать подходящий материал для изготовления одежды"
   ]
  },
  {
   "cell_type": "code",
   "execution_count": 2,
   "id": "1025e0d5",
   "metadata": {},
   "outputs": [
    {
     "data": {
      "text/html": [
       "<svg id=\"mermaid-svg\" width=\"100%\" xmlns=\"http://www.w3.org/2000/svg\" class=\"flowchart\" style=\"max-width: 779.8125px;\" viewBox=\"0 0 779.8125 1384.953125\" role=\"graphics-document document\" aria-roledescription=\"flowchart-v2\" xmlns:xlink=\"http://www.w3.org/1999/xlink\"><style xmlns=\"http://www.w3.org/1999/xhtml\">@import url(\"https://cdnjs.cloudflare.com/ajax/libs/font-awesome/6.7.2/css/all.min.css\");</style><style>#mermaid-svg{font-family:\"trebuchet ms\",verdana,arial,sans-serif;font-size:16px;fill:#333;}@keyframes edge-animation-frame{from{stroke-dashoffset:0;}}@keyframes dash{to{stroke-dashoffset:0;}}#mermaid-svg .edge-animation-slow{stroke-dasharray:9,5!important;stroke-dashoffset:900;animation:dash 50s linear infinite;stroke-linecap:round;}#mermaid-svg .edge-animation-fast{stroke-dasharray:9,5!important;stroke-dashoffset:900;animation:dash 20s linear infinite;stroke-linecap:round;}#mermaid-svg .error-icon{fill:#552222;}#mermaid-svg .error-text{fill:#552222;stroke:#552222;}#mermaid-svg .edge-thickness-normal{stroke-width:1px;}#mermaid-svg .edge-thickness-thick{stroke-width:3.5px;}#mermaid-svg .edge-pattern-solid{stroke-dasharray:0;}#mermaid-svg .edge-thickness-invisible{stroke-width:0;fill:none;}#mermaid-svg .edge-pattern-dashed{stroke-dasharray:3;}#mermaid-svg .edge-pattern-dotted{stroke-dasharray:2;}#mermaid-svg .marker{fill:#333333;stroke:#333333;}#mermaid-svg .marker.cross{stroke:#333333;}#mermaid-svg svg{font-family:\"trebuchet ms\",verdana,arial,sans-serif;font-size:16px;}#mermaid-svg p{margin:0;}#mermaid-svg .label{font-family:\"trebuchet ms\",verdana,arial,sans-serif;color:#333;}#mermaid-svg .cluster-label text{fill:#333;}#mermaid-svg .cluster-label span{color:#333;}#mermaid-svg .cluster-label span p{background-color:transparent;}#mermaid-svg .label text,#mermaid-svg span{fill:#333;color:#333;}#mermaid-svg .node rect,#mermaid-svg .node circle,#mermaid-svg .node ellipse,#mermaid-svg .node polygon,#mermaid-svg .node path{fill:#ECECFF;stroke:#9370DB;stroke-width:1px;}#mermaid-svg .rough-node .label text,#mermaid-svg .node .label text,#mermaid-svg .image-shape .label,#mermaid-svg .icon-shape .label{text-anchor:middle;}#mermaid-svg .node .katex path{fill:#000;stroke:#000;stroke-width:1px;}#mermaid-svg .rough-node .label,#mermaid-svg .node .label,#mermaid-svg .image-shape .label,#mermaid-svg .icon-shape .label{text-align:center;}#mermaid-svg .node.clickable{cursor:pointer;}#mermaid-svg .root .anchor path{fill:#333333!important;stroke-width:0;stroke:#333333;}#mermaid-svg .arrowheadPath{fill:#333333;}#mermaid-svg .edgePath .path{stroke:#333333;stroke-width:2.0px;}#mermaid-svg .flowchart-link{stroke:#333333;fill:none;}#mermaid-svg .edgeLabel{background-color:rgba(232,232,232, 0.8);text-align:center;}#mermaid-svg .edgeLabel p{background-color:rgba(232,232,232, 0.8);}#mermaid-svg .edgeLabel rect{opacity:0.5;background-color:rgba(232,232,232, 0.8);fill:rgba(232,232,232, 0.8);}#mermaid-svg .labelBkg{background-color:rgba(232, 232, 232, 0.5);}#mermaid-svg .cluster rect{fill:#ffffde;stroke:#aaaa33;stroke-width:1px;}#mermaid-svg .cluster text{fill:#333;}#mermaid-svg .cluster span{color:#333;}#mermaid-svg div.mermaidTooltip{position:absolute;text-align:center;max-width:200px;padding:2px;font-family:\"trebuchet ms\",verdana,arial,sans-serif;font-size:12px;background:hsl(80, 100%, 96.2745098039%);border:1px solid #aaaa33;border-radius:2px;pointer-events:none;z-index:100;}#mermaid-svg .flowchartTitleText{text-anchor:middle;font-size:18px;fill:#333;}#mermaid-svg rect.text{fill:none;stroke-width:0;}#mermaid-svg .icon-shape,#mermaid-svg .image-shape{background-color:rgba(232,232,232, 0.8);text-align:center;}#mermaid-svg .icon-shape p,#mermaid-svg .image-shape p{background-color:rgba(232,232,232, 0.8);padding:2px;}#mermaid-svg .icon-shape rect,#mermaid-svg .image-shape rect{opacity:0.5;background-color:rgba(232,232,232, 0.8);fill:rgba(232,232,232, 0.8);}#mermaid-svg :root{--mermaid-font-family:\"trebuchet ms\",verdana,arial,sans-serif;}</style><g><marker id=\"mermaid-svg_flowchart-v2-pointEnd\" class=\"marker flowchart-v2\" viewBox=\"0 0 10 10\" refX=\"5\" refY=\"5\" markerUnits=\"userSpaceOnUse\" markerWidth=\"8\" markerHeight=\"8\" orient=\"auto\"><path d=\"M 0 0 L 10 5 L 0 10 z\" class=\"arrowMarkerPath\" style=\"stroke-width: 1; stroke-dasharray: 1, 0;\"/></marker><marker id=\"mermaid-svg_flowchart-v2-pointStart\" class=\"marker flowchart-v2\" viewBox=\"0 0 10 10\" refX=\"4.5\" refY=\"5\" markerUnits=\"userSpaceOnUse\" markerWidth=\"8\" markerHeight=\"8\" orient=\"auto\"><path d=\"M 0 5 L 10 10 L 10 0 z\" class=\"arrowMarkerPath\" style=\"stroke-width: 1; stroke-dasharray: 1, 0;\"/></marker><marker id=\"mermaid-svg_flowchart-v2-circleEnd\" class=\"marker flowchart-v2\" viewBox=\"0 0 10 10\" refX=\"11\" refY=\"5\" markerUnits=\"userSpaceOnUse\" markerWidth=\"11\" markerHeight=\"11\" orient=\"auto\"><circle cx=\"5\" cy=\"5\" r=\"5\" class=\"arrowMarkerPath\" style=\"stroke-width: 1; stroke-dasharray: 1, 0;\"/></marker><marker id=\"mermaid-svg_flowchart-v2-circleStart\" class=\"marker flowchart-v2\" viewBox=\"0 0 10 10\" refX=\"-1\" refY=\"5\" markerUnits=\"userSpaceOnUse\" markerWidth=\"11\" markerHeight=\"11\" orient=\"auto\"><circle cx=\"5\" cy=\"5\" r=\"5\" class=\"arrowMarkerPath\" style=\"stroke-width: 1; stroke-dasharray: 1, 0;\"/></marker><marker id=\"mermaid-svg_flowchart-v2-crossEnd\" class=\"marker cross flowchart-v2\" viewBox=\"0 0 11 11\" refX=\"12\" refY=\"5.2\" markerUnits=\"userSpaceOnUse\" markerWidth=\"11\" markerHeight=\"11\" orient=\"auto\"><path d=\"M 1,1 l 9,9 M 10,1 l -9,9\" class=\"arrowMarkerPath\" style=\"stroke-width: 2; stroke-dasharray: 1, 0;\"/></marker><marker id=\"mermaid-svg_flowchart-v2-crossStart\" class=\"marker cross flowchart-v2\" viewBox=\"0 0 11 11\" refX=\"-1\" refY=\"5.2\" markerUnits=\"userSpaceOnUse\" markerWidth=\"11\" markerHeight=\"11\" orient=\"auto\"><path d=\"M 1,1 l 9,9 M 10,1 l -9,9\" class=\"arrowMarkerPath\" style=\"stroke-width: 2; stroke-dasharray: 1, 0;\"/></marker><g class=\"root\"><g class=\"clusters\"/><g class=\"edgePaths\"><path d=\"M384.07,47L384.07,51.167C384.07,55.333,384.07,63.667,384.141,71.417C384.211,79.167,384.351,86.334,384.422,89.917L384.492,93.501\" id=\"L_Start_Budget_0\" class=\" edge-thickness-normal edge-pattern-solid edge-thickness-normal edge-pattern-solid flowchart-link\" style=\"\" marker-end=\"url(#mermaid-svg_flowchart-v2-pointEnd)\"/><path d=\"M313.848,228.387L271.555,246.257C229.263,264.128,144.678,299.869,102.386,340.216C60.094,380.563,60.094,425.516,60.094,470.469C60.094,515.422,60.094,560.375,60.094,608.195C60.094,656.016,60.094,706.703,60.094,757.391C60.094,808.078,60.094,858.766,60.094,909.318C60.094,959.87,60.094,1010.286,60.094,1060.703C60.094,1111.12,60.094,1161.536,60.094,1192.245C60.094,1222.953,60.094,1233.953,60.094,1239.453L60.094,1244.953\" id=\"L_Budget_Polyester_0\" class=\" edge-thickness-normal edge-pattern-solid edge-thickness-normal edge-pattern-solid flowchart-link\" style=\"\" marker-end=\"url(#mermaid-svg_flowchart-v2-pointEnd)\"/><path d=\"M418.932,264.748L424.999,276.558C431.066,288.369,443.201,311.989,449.343,329.383C455.485,346.776,455.634,357.943,455.708,363.526L455.783,369.11\" id=\"L_Budget_Summer_0\" class=\" edge-thickness-normal edge-pattern-solid edge-thickness-normal edge-pattern-solid flowchart-link\" style=\"\" marker-end=\"url(#mermaid-svg_flowchart-v2-pointEnd)\"/><path d=\"M502.449,522.215L515.042,536.067C527.634,549.919,552.819,577.624,565.486,597.059C578.153,616.495,578.302,627.662,578.376,633.245L578.451,638.828\" id=\"L_Summer_Casual_0\" class=\" edge-thickness-normal edge-pattern-solid edge-thickness-normal edge-pattern-solid flowchart-link\" style=\"\" marker-end=\"url(#mermaid-svg_flowchart-v2-pointEnd)\"/><path d=\"M398.867,511.859L376.963,527.437C355.059,543.015,311.252,574.172,289.349,615.094C267.445,656.016,267.445,706.703,267.445,757.391C267.445,808.078,267.445,858.766,267.522,892.223C267.599,925.68,267.753,941.906,267.83,950.02L267.907,958.133\" id=\"L_Summer_Winter_0\" class=\" edge-thickness-normal edge-pattern-solid edge-thickness-normal edge-pattern-solid flowchart-link\" style=\"\" marker-end=\"url(#mermaid-svg_flowchart-v2-pointEnd)\"/><path d=\"M238.225,1130.553L232.291,1144.119C226.358,1157.686,214.492,1184.82,208.558,1203.886C202.625,1222.953,202.625,1233.953,202.625,1239.453L202.625,1244.953\" id=\"L_Winter_Wool_0\" class=\" edge-thickness-normal edge-pattern-solid edge-thickness-normal edge-pattern-solid flowchart-link\" style=\"\" marker-end=\"url(#mermaid-svg_flowchart-v2-pointEnd)\"/><path d=\"M297.666,1130.553L303.433,1144.119C309.199,1157.686,320.732,1184.82,326.499,1203.886C332.266,1222.953,332.266,1233.953,332.266,1239.453L332.266,1244.953\" id=\"L_Winter_Cotton_0\" class=\" edge-thickness-normal edge-pattern-solid edge-thickness-normal edge-pattern-solid flowchart-link\" style=\"\" marker-end=\"url(#mermaid-svg_flowchart-v2-pointEnd)\"/><path d=\"M528.731,823.181L517.623,837.559C506.515,851.938,484.298,880.696,473.19,920.283C462.082,959.87,462.082,1010.286,462.082,1060.703C462.082,1111.12,462.082,1161.536,462.082,1192.245C462.082,1222.953,462.082,1233.953,462.082,1239.453L462.082,1244.953\" id=\"L_Casual_Flax_0\" class=\" edge-thickness-normal edge-pattern-solid edge-thickness-normal edge-pattern-solid flowchart-link\" style=\"\" marker-end=\"url(#mermaid-svg_flowchart-v2-pointEnd)\"/><path d=\"M618.026,833.431L624.616,846.101C631.205,858.772,644.384,884.112,651.048,902.366C657.711,920.62,657.86,931.787,657.935,937.37L658.009,942.953\" id=\"L_Casual_Formal_0\" class=\" edge-thickness-normal edge-pattern-solid edge-thickness-normal edge-pattern-solid flowchart-link\" style=\"\" marker-end=\"url(#mermaid-svg_flowchart-v2-pointEnd)\"/><path d=\"M625.032,1142.422L620.201,1154.011C615.371,1165.599,605.711,1188.776,600.881,1205.865C596.051,1222.953,596.051,1233.953,596.051,1239.453L596.051,1244.953\" id=\"L_Formal_Silk_0\" class=\" edge-thickness-normal edge-pattern-solid edge-thickness-normal edge-pattern-solid flowchart-link\" style=\"\" marker-end=\"url(#mermaid-svg_flowchart-v2-pointEnd)\"/><path d=\"M691.093,1142.422L695.757,1154.011C700.42,1165.599,709.747,1188.776,714.411,1205.865C719.074,1222.953,719.074,1233.953,719.074,1239.453L719.074,1244.953\" id=\"L_Formal_Neulon_0\" class=\" edge-thickness-normal edge-pattern-solid edge-thickness-normal edge-pattern-solid flowchart-link\" style=\"\" marker-end=\"url(#mermaid-svg_flowchart-v2-pointEnd)\"/><path d=\"M60.094,1287.953L60.094,1292.12C60.094,1296.286,60.094,1304.62,110.966,1315.365C161.839,1326.11,263.585,1339.266,314.457,1345.844L365.33,1352.422\" id=\"L_Polyester_End_0\" class=\" edge-thickness-normal edge-pattern-solid edge-thickness-normal edge-pattern-solid flowchart-link\" style=\"\" marker-end=\"url(#mermaid-svg_flowchart-v2-pointEnd)\"/><path d=\"M202.625,1287.953L202.625,1292.12C202.625,1296.286,202.625,1304.62,229.753,1314.774C256.88,1324.929,311.136,1336.904,338.263,1342.892L365.391,1348.879\" id=\"L_Wool_End_0\" class=\" edge-thickness-normal edge-pattern-solid edge-thickness-normal edge-pattern-solid flowchart-link\" style=\"\" marker-end=\"url(#mermaid-svg_flowchart-v2-pointEnd)\"/><path d=\"M332.266,1287.953L332.266,1292.12C332.266,1296.286,332.266,1304.62,338.437,1312.603C344.609,1320.585,356.952,1328.217,363.124,1332.033L369.295,1335.849\" id=\"L_Cotton_End_0\" class=\" edge-thickness-normal edge-pattern-solid edge-thickness-normal edge-pattern-solid flowchart-link\" style=\"\" marker-end=\"url(#mermaid-svg_flowchart-v2-pointEnd)\"/><path d=\"M462.082,1287.953L462.082,1292.12C462.082,1296.286,462.082,1304.62,457.194,1312.547C452.306,1320.473,442.53,1327.994,437.642,1331.754L432.754,1335.514\" id=\"L_Flax_End_0\" class=\" edge-thickness-normal edge-pattern-solid edge-thickness-normal edge-pattern-solid flowchart-link\" style=\"\" marker-end=\"url(#mermaid-svg_flowchart-v2-pointEnd)\"/><path d=\"M596.051,1287.953L596.051,1292.12C596.051,1296.286,596.051,1304.62,570.554,1314.702C545.057,1324.783,494.063,1336.614,468.565,1342.529L443.068,1348.444\" id=\"L_Silk_End_0\" class=\" edge-thickness-normal edge-pattern-solid edge-thickness-normal edge-pattern-solid flowchart-link\" style=\"\" marker-end=\"url(#mermaid-svg_flowchart-v2-pointEnd)\"/><path d=\"M719.074,1287.953L719.074,1292.12C719.074,1296.286,719.074,1304.62,673.084,1315.287C627.094,1325.954,535.113,1338.955,489.123,1345.455L443.133,1351.955\" id=\"L_Neulon_End_0\" class=\" edge-thickness-normal edge-pattern-solid edge-thickness-normal edge-pattern-solid flowchart-link\" style=\"\" marker-end=\"url(#mermaid-svg_flowchart-v2-pointEnd)\"/></g><g class=\"edgeLabels\"><g class=\"edgeLabel\"><g class=\"label\" transform=\"translate(0, 0)\"><foreignObject width=\"0\" height=\"0\"><div xmlns=\"http://www.w3.org/1999/xhtml\" class=\"labelBkg\" style=\"display: table-cell; white-space: nowrap; line-height: 1.5; max-width: 200px; text-align: center;\"><span class=\"edgeLabel \"></span></div></foreignObject></g></g><g class=\"edgeLabel\" transform=\"translate(60.09375, 757.390625)\"><g class=\"label\" transform=\"translate(-9.8671875, -12)\"><foreignObject width=\"19.734375\" height=\"24\"><div xmlns=\"http://www.w3.org/1999/xhtml\" class=\"labelBkg\" style=\"display: table-cell; white-space: nowrap; line-height: 1.5; max-width: 200px; text-align: center;\"><span class=\"edgeLabel \"><p>Да</p></span></div></foreignObject></g></g><g class=\"edgeLabel\" transform=\"translate(455.3359375, 335.609375)\"><g class=\"label\" transform=\"translate(-13.625, -12)\"><foreignObject width=\"27.25\" height=\"24\"><div xmlns=\"http://www.w3.org/1999/xhtml\" class=\"labelBkg\" style=\"display: table-cell; white-space: nowrap; line-height: 1.5; max-width: 200px; text-align: center;\"><span class=\"edgeLabel \"><p>Нет</p></span></div></foreignObject></g></g><g class=\"edgeLabel\" transform=\"translate(578.00390625, 605.328125)\"><g class=\"label\" transform=\"translate(-9.8671875, -12)\"><foreignObject width=\"19.734375\" height=\"24\"><div xmlns=\"http://www.w3.org/1999/xhtml\" class=\"labelBkg\" style=\"display: table-cell; white-space: nowrap; line-height: 1.5; max-width: 200px; text-align: center;\"><span class=\"edgeLabel \"><p>Да</p></span></div></foreignObject></g></g><g class=\"edgeLabel\" transform=\"translate(267.4453125, 757.390625)\"><g class=\"label\" transform=\"translate(-13.625, -12)\"><foreignObject width=\"27.25\" height=\"24\"><div xmlns=\"http://www.w3.org/1999/xhtml\" class=\"labelBkg\" style=\"display: table-cell; white-space: nowrap; line-height: 1.5; max-width: 200px; text-align: center;\"><span class=\"edgeLabel \"><p>Нет</p></span></div></foreignObject></g></g><g class=\"edgeLabel\" transform=\"translate(202.625, 1211.953125)\"><g class=\"label\" transform=\"translate(-9.8671875, -12)\"><foreignObject width=\"19.734375\" height=\"24\"><div xmlns=\"http://www.w3.org/1999/xhtml\" class=\"labelBkg\" style=\"display: table-cell; white-space: nowrap; line-height: 1.5; max-width: 200px; text-align: center;\"><span class=\"edgeLabel \"><p>Да</p></span></div></foreignObject></g></g><g class=\"edgeLabel\" transform=\"translate(332.265625, 1211.953125)\"><g class=\"label\" transform=\"translate(-13.625, -12)\"><foreignObject width=\"27.25\" height=\"24\"><div xmlns=\"http://www.w3.org/1999/xhtml\" class=\"labelBkg\" style=\"display: table-cell; white-space: nowrap; line-height: 1.5; max-width: 200px; text-align: center;\"><span class=\"edgeLabel \"><p>Нет</p></span></div></foreignObject></g></g><g class=\"edgeLabel\" transform=\"translate(462.08203125, 1060.703125)\"><g class=\"label\" transform=\"translate(-9.8671875, -12)\"><foreignObject width=\"19.734375\" height=\"24\"><div xmlns=\"http://www.w3.org/1999/xhtml\" class=\"labelBkg\" style=\"display: table-cell; white-space: nowrap; line-height: 1.5; max-width: 200px; text-align: center;\"><span class=\"edgeLabel \"><p>Да</p></span></div></foreignObject></g></g><g class=\"edgeLabel\" transform=\"translate(657.5625, 909.453125)\"><g class=\"label\" transform=\"translate(-13.625, -12)\"><foreignObject width=\"27.25\" height=\"24\"><div xmlns=\"http://www.w3.org/1999/xhtml\" class=\"labelBkg\" style=\"display: table-cell; white-space: nowrap; line-height: 1.5; max-width: 200px; text-align: center;\"><span class=\"edgeLabel \"><p>Нет</p></span></div></foreignObject></g></g><g class=\"edgeLabel\" transform=\"translate(596.05078125, 1211.953125)\"><g class=\"label\" transform=\"translate(-9.8671875, -12)\"><foreignObject width=\"19.734375\" height=\"24\"><div xmlns=\"http://www.w3.org/1999/xhtml\" class=\"labelBkg\" style=\"display: table-cell; white-space: nowrap; line-height: 1.5; max-width: 200px; text-align: center;\"><span class=\"edgeLabel \"><p>Да</p></span></div></foreignObject></g></g><g class=\"edgeLabel\" transform=\"translate(719.07421875, 1211.953125)\"><g class=\"label\" transform=\"translate(-13.625, -12)\"><foreignObject width=\"27.25\" height=\"24\"><div xmlns=\"http://www.w3.org/1999/xhtml\" class=\"labelBkg\" style=\"display: table-cell; white-space: nowrap; line-height: 1.5; max-width: 200px; text-align: center;\"><span class=\"edgeLabel \"><p>Нет</p></span></div></foreignObject></g></g><g class=\"edgeLabel\"><g class=\"label\" transform=\"translate(0, 0)\"><foreignObject width=\"0\" height=\"0\"><div xmlns=\"http://www.w3.org/1999/xhtml\" class=\"labelBkg\" style=\"display: table-cell; white-space: nowrap; line-height: 1.5; max-width: 200px; text-align: center;\"><span class=\"edgeLabel \"></span></div></foreignObject></g></g><g class=\"edgeLabel\"><g class=\"label\" transform=\"translate(0, 0)\"><foreignObject width=\"0\" height=\"0\"><div xmlns=\"http://www.w3.org/1999/xhtml\" class=\"labelBkg\" style=\"display: table-cell; white-space: nowrap; line-height: 1.5; max-width: 200px; text-align: center;\"><span class=\"edgeLabel \"></span></div></foreignObject></g></g><g class=\"edgeLabel\"><g class=\"label\" transform=\"translate(0, 0)\"><foreignObject width=\"0\" height=\"0\"><div xmlns=\"http://www.w3.org/1999/xhtml\" class=\"labelBkg\" style=\"display: table-cell; white-space: nowrap; line-height: 1.5; max-width: 200px; text-align: center;\"><span class=\"edgeLabel \"></span></div></foreignObject></g></g><g class=\"edgeLabel\"><g class=\"label\" transform=\"translate(0, 0)\"><foreignObject width=\"0\" height=\"0\"><div xmlns=\"http://www.w3.org/1999/xhtml\" class=\"labelBkg\" style=\"display: table-cell; white-space: nowrap; line-height: 1.5; max-width: 200px; text-align: center;\"><span class=\"edgeLabel \"></span></div></foreignObject></g></g><g class=\"edgeLabel\"><g class=\"label\" transform=\"translate(0, 0)\"><foreignObject width=\"0\" height=\"0\"><div xmlns=\"http://www.w3.org/1999/xhtml\" class=\"labelBkg\" style=\"display: table-cell; white-space: nowrap; line-height: 1.5; max-width: 200px; text-align: center;\"><span class=\"edgeLabel \"></span></div></foreignObject></g></g><g class=\"edgeLabel\"><g class=\"label\" transform=\"translate(0, 0)\"><foreignObject width=\"0\" height=\"0\"><div xmlns=\"http://www.w3.org/1999/xhtml\" class=\"labelBkg\" style=\"display: table-cell; white-space: nowrap; line-height: 1.5; max-width: 200px; text-align: center;\"><span class=\"edgeLabel \"></span></div></foreignObject></g></g></g><g class=\"nodes\"><g class=\"node default  \" id=\"flowchart-Start-0\" transform=\"translate(384.0703125, 27.5)\"><rect class=\"basic label-container\" style=\"\" rx=\"19.5\" ry=\"19.5\" x=\"-40.25\" y=\"-19.5\" width=\"80.5\" height=\"39\"/><g class=\"label\" style=\"\" transform=\"translate(-27.875, -12)\"><rect/><foreignObject width=\"55.75\" height=\"24\"><div xmlns=\"http://www.w3.org/1999/xhtml\" style=\"display: table-cell; white-space: nowrap; line-height: 1.5; max-width: 200px; text-align: center;\"><span class=\"nodeLabel \"><p>Начало</p></span></div></foreignObject></g></g><g class=\"node default  \" id=\"flowchart-End-1\" transform=\"translate(404.234375, 1357.453125)\"><rect class=\"basic label-container\" style=\"\" rx=\"19.5\" ry=\"19.5\" x=\"-34.9375\" y=\"-19.5\" width=\"69.875\" height=\"39\"/><g class=\"label\" style=\"\" transform=\"translate(-22.5625, -12)\"><rect/><foreignObject width=\"45.125\" height=\"24\"><div xmlns=\"http://www.w3.org/1999/xhtml\" style=\"display: table-cell; white-space: nowrap; line-height: 1.5; max-width: 200px; text-align: center;\"><span class=\"nodeLabel \"><p>Конец</p></span></div></foreignObject></g></g><g class=\"node default  \" id=\"flowchart-Budget-2\" transform=\"translate(384.0703125, 197.8046875)\"><polygon points=\"100.8046875,0 201.609375,-100.8046875 100.8046875,-201.609375 0,-100.8046875\" class=\"label-container\" transform=\"translate(-100.8046875,100.8046875)\"/><g class=\"label\" style=\"\" transform=\"translate(-73.8046875, -12)\"><rect/><foreignObject width=\"147.609375\" height=\"24\"><div xmlns=\"http://www.w3.org/1999/xhtml\" style=\"display: table-cell; white-space: nowrap; line-height: 1.5; max-width: 200px; text-align: center;\"><span class=\"nodeLabel \"><p>Бюджет ограничен?</p></span></div></foreignObject></g></g><g class=\"node default  \" id=\"flowchart-Summer-3\" transform=\"translate(455.3359375, 470.46875)\"><polygon points=\"97.859375,0 195.71875,-97.859375 97.859375,-195.71875 0,-97.859375\" class=\"label-container\" transform=\"translate(-97.859375,97.859375)\"/><g class=\"label\" style=\"\" transform=\"translate(-70.859375, -12)\"><rect/><foreignObject width=\"141.71875\" height=\"24\"><div xmlns=\"http://www.w3.org/1999/xhtml\" style=\"display: table-cell; white-space: nowrap; line-height: 1.5; max-width: 200px; text-align: center;\"><span class=\"nodeLabel \"><p>Время года - лето?</p></span></div></foreignObject></g></g><g class=\"node default  \" id=\"flowchart-Winter-4\" transform=\"translate(267.4453125, 1060.703125)\"><polygon points=\"99.0703125,0 198.140625,-99.0703125 99.0703125,-198.140625 0,-99.0703125\" class=\"label-container\" transform=\"translate(-99.0703125,99.0703125)\"/><g class=\"label\" style=\"\" transform=\"translate(-72.0703125, -12)\"><rect/><foreignObject width=\"144.140625\" height=\"24\"><div xmlns=\"http://www.w3.org/1999/xhtml\" style=\"display: table-cell; white-space: nowrap; line-height: 1.5; max-width: 200px; text-align: center;\"><span class=\"nodeLabel \"><p>Время года - зима?</p></span></div></foreignObject></g></g><g class=\"node default  \" id=\"flowchart-Casual-5\" transform=\"translate(578.00390625, 757.390625)\"><polygon points=\"115.0625,0 230.125,-115.0625 115.0625,-230.125 0,-115.0625\" class=\"label-container\" transform=\"translate(-115.0625,115.0625)\"/><g class=\"label\" style=\"\" transform=\"translate(-88.0625, -12)\"><rect/><foreignObject width=\"176.125\" height=\"24\"><div xmlns=\"http://www.w3.org/1999/xhtml\" style=\"display: table-cell; white-space: nowrap; line-height: 1.5; max-width: 200px; text-align: center;\"><span class=\"nodeLabel \"><p>Повседневная одежда?</p></span></div></foreignObject></g></g><g class=\"node default  \" id=\"flowchart-Formal-6\" transform=\"translate(657.5625, 1060.703125)\"><polygon points=\"114.25,0 228.5,-114.25 114.25,-228.5 0,-114.25\" class=\"label-container\" transform=\"translate(-114.25,114.25)\"/><g class=\"label\" style=\"\" transform=\"translate(-87.25, -12)\"><rect/><foreignObject width=\"174.5\" height=\"24\"><div xmlns=\"http://www.w3.org/1999/xhtml\" style=\"display: table-cell; white-space: nowrap; line-height: 1.5; max-width: 200px; text-align: center;\"><span class=\"nodeLabel \"><p>Официальная одежда?</p></span></div></foreignObject></g></g><g class=\"node default  \" id=\"flowchart-Polyester-7\" transform=\"translate(60.09375, 1268.453125)\"><rect class=\"basic label-container\" style=\"\" rx=\"19.5\" ry=\"19.5\" x=\"-52.09375\" y=\"-19.5\" width=\"104.1875\" height=\"39\"/><g class=\"label\" style=\"\" transform=\"translate(-39.71875, -12)\"><rect/><foreignObject width=\"79.4375\" height=\"24\"><div xmlns=\"http://www.w3.org/1999/xhtml\" style=\"display: table-cell; white-space: nowrap; line-height: 1.5; max-width: 200px; text-align: center;\"><span class=\"nodeLabel \"><p>Полиэстер</p></span></div></foreignObject></g></g><g class=\"node default  \" id=\"flowchart-Cotton-8\" transform=\"translate(332.265625, 1268.453125)\"><rect class=\"basic label-container\" style=\"\" rx=\"19.5\" ry=\"19.5\" x=\"-39.203125\" y=\"-19.5\" width=\"78.40625\" height=\"39\"/><g class=\"label\" style=\"\" transform=\"translate(-26.828125, -12)\"><rect/><foreignObject width=\"53.65625\" height=\"24\"><div xmlns=\"http://www.w3.org/1999/xhtml\" style=\"display: table-cell; white-space: nowrap; line-height: 1.5; max-width: 200px; text-align: center;\"><span class=\"nodeLabel \"><p>Хлопок</p></span></div></foreignObject></g></g><g class=\"node default  \" id=\"flowchart-Wool-9\" transform=\"translate(202.625, 1268.453125)\"><rect class=\"basic label-container\" style=\"\" rx=\"19.5\" ry=\"19.5\" x=\"-40.4375\" y=\"-19.5\" width=\"80.875\" height=\"39\"/><g class=\"label\" style=\"\" transform=\"translate(-28.0625, -12)\"><rect/><foreignObject width=\"56.125\" height=\"24\"><div xmlns=\"http://www.w3.org/1999/xhtml\" style=\"display: table-cell; white-space: nowrap; line-height: 1.5; max-width: 200px; text-align: center;\"><span class=\"nodeLabel \"><p>Шерсть</p></span></div></foreignObject></g></g><g class=\"node default  \" id=\"flowchart-Flax-10\" transform=\"translate(462.08203125, 1268.453125)\"><rect class=\"basic label-container\" style=\"\" rx=\"19.5\" ry=\"19.5\" x=\"-26.4921875\" y=\"-19.5\" width=\"52.984375\" height=\"39\"/><g class=\"label\" style=\"\" transform=\"translate(-14.1171875, -12)\"><rect/><foreignObject width=\"28.234375\" height=\"24\"><div xmlns=\"http://www.w3.org/1999/xhtml\" style=\"display: table-cell; white-space: nowrap; line-height: 1.5; max-width: 200px; text-align: center;\"><span class=\"nodeLabel \"><p>Лён</p></span></div></foreignObject></g></g><g class=\"node default  \" id=\"flowchart-Silk-11\" transform=\"translate(596.05078125, 1268.453125)\"><rect class=\"basic label-container\" style=\"\" rx=\"19.5\" ry=\"19.5\" x=\"-32.328125\" y=\"-19.5\" width=\"64.65625\" height=\"39\"/><g class=\"label\" style=\"\" transform=\"translate(-19.953125, -12)\"><rect/><foreignObject width=\"39.90625\" height=\"24\"><div xmlns=\"http://www.w3.org/1999/xhtml\" style=\"display: table-cell; white-space: nowrap; line-height: 1.5; max-width: 200px; text-align: center;\"><span class=\"nodeLabel \"><p>Шёлк</p></span></div></foreignObject></g></g><g class=\"node default  \" id=\"flowchart-Neulon-12\" transform=\"translate(719.07421875, 1268.453125)\"><rect class=\"basic label-container\" style=\"\" rx=\"19.5\" ry=\"19.5\" x=\"-40.6953125\" y=\"-19.5\" width=\"81.390625\" height=\"39\"/><g class=\"label\" style=\"\" transform=\"translate(-28.3203125, -12)\"><rect/><foreignObject width=\"56.640625\" height=\"24\"><div xmlns=\"http://www.w3.org/1999/xhtml\" style=\"display: table-cell; white-space: nowrap; line-height: 1.5; max-width: 200px; text-align: center;\"><span class=\"nodeLabel \"><p>Нейлон</p></span></div></foreignObject></g></g></g></g></g></svg>"
      ],
      "text/plain": [
       "<mermaid.__main__.Mermaid at 0x105c0c050>"
      ]
     },
     "metadata": {},
     "output_type": "display_data"
    }
   ],
   "source": [
    "%%mermaidjs\n",
    "---\n",
    "theme : dark\n",
    "---\n",
    "flowchart TD\n",
    "    Start([\"Начало\"])\n",
    "    End([\"Конец\"])\n",
    "\n",
    "    Budget{\"Бюджет ограничен?\"}\n",
    "    Summer{\"Время года - лето?\"}\n",
    "    Winter{\"Время года - зима?\"}\n",
    "    Casual{\"Повседневная одежда?\"}\n",
    "    Formal{\"Официальная одежда?\"}\n",
    "\n",
    "    Polyester([\"Полиэстер\"])\n",
    "    Cotton([\"Хлопок\"])\n",
    "    Wool([\"Шерсть\"])\n",
    "    Flax([\"Лён\"])\n",
    "    Silk([\"Шёлк\"])\n",
    "    Neulon([\"Нейлон\"])\n",
    "\n",
    "    Start --> Budget\n",
    "    Budget -- Да --> Polyester\n",
    "    Budget -- Нет --> Summer\n",
    "    \n",
    "    Summer -- Да --> Casual\n",
    "    Summer -- Нет --> Winter\n",
    "    \n",
    "    Winter -- Да --> Wool\n",
    "    Winter -- Нет --> Cotton\n",
    "    \n",
    "    Casual -- Да --> Flax\n",
    "    Casual -- Нет --> Formal\n",
    "\n",
    "    Formal -- Да --> Silk\n",
    "    Formal -- Нет --> Neulon\n",
    "    \n",
    "    Polyester --> End\n",
    "    Wool --> End\n",
    "    Cotton --> End\n",
    "    Flax --> End\n",
    "    Silk --> End\n",
    "    Neulon --> End\n"
   ]
  },
  {
   "cell_type": "markdown",
   "id": "12ae2606",
   "metadata": {},
   "source": [
    "## Реализация на языке Python\n",
    "\n",
    "Для реализации алгоритма использованы современные функции Python и функциональный стиль программирования. Программный код и результаты отладки будут так же представлены в среде Jupyter."
   ]
  },
  {
   "cell_type": "markdown",
   "id": "3e1a1d98",
   "metadata": {},
   "source": [
    "### Запись с набором параметров выбора"
   ]
  },
  {
   "cell_type": "code",
   "execution_count": 21,
   "id": "5a993bf0",
   "metadata": {},
   "outputs": [],
   "source": [
    "from dataclasses import dataclass\n",
    "\n",
    "@dataclass\n",
    "class ClothesParameters:\n",
    "    low_budget: bool\n",
    "    season: str\n",
    "    purpose: str"
   ]
  },
  {
   "cell_type": "markdown",
   "id": "79cca6b3",
   "metadata": {},
   "source": [
    "### Функция для выбора материала"
   ]
  },
  {
   "cell_type": "code",
   "execution_count": 40,
   "id": "868dcebb",
   "metadata": {},
   "outputs": [],
   "source": [
    "def get_clothes_material(params: ClothesParameters) -> str:\n",
    "    match params:\n",
    "        case ClothesParameters(low_budget=True):\n",
    "            return \"polyester\"\n",
    "        case ClothesParameters(season=\"winter\"):\n",
    "            return \"wool\"\n",
    "        case ClothesParameters(season=\"summer\", purpose=\"casual\"):\n",
    "            return \"flax\"\n",
    "        case ClothesParameters(purpose=\"official\"):\n",
    "            return \"silk\"\n",
    "        case ClothesParameters(purpose=\"casual\"):\n",
    "            return \"neulon\"\n",
    "        case ClothesParameters():\n",
    "            return \"cotton\"\n",
    "\n",
    "    raise ValueError(\"Invalid clothes parameters\")"
   ]
  },
  {
   "cell_type": "markdown",
   "id": "01dfef11",
   "metadata": {},
   "source": [
    "### Проверка работоспособности\n",
    "\n",
    "В данном примере у системы запрошен материал одежды для повседневного использования летом без ограничений по бюджету. Решением системы стал лён - подходящий под описанные параметры материал."
   ]
  },
  {
   "cell_type": "code",
   "execution_count": 41,
   "id": "f9da70bd-c95d-49aa-ac20-8c9bec7804be",
   "metadata": {},
   "outputs": [
    {
     "data": {
      "text/plain": [
       "'flax'"
      ]
     },
     "execution_count": 41,
     "metadata": {},
     "output_type": "execute_result"
    }
   ],
   "source": [
    "get_clothes_material(ClothesParameters(low_budget=False, season=\"summer\", purpose=\"casual\"))"
   ]
  },
  {
   "cell_type": "markdown",
   "id": "c0f1e54b",
   "metadata": {},
   "source": [
    "### Таблица тестов\n",
    "\n",
    "С помощью pandas выполнена составлена таблица, в которой отражены параметры выбора материала для изготовления одежды и решение экспертной системы в выборе материала."
   ]
  },
  {
   "cell_type": "code",
   "execution_count": 45,
   "id": "72324b5f-5d61-485a-a7bb-b02feb985443",
   "metadata": {},
   "outputs": [
    {
     "data": {
      "text/html": [
       "<div>\n",
       "<style scoped>\n",
       "    .dataframe tbody tr th:only-of-type {\n",
       "        vertical-align: middle;\n",
       "    }\n",
       "\n",
       "    .dataframe tbody tr th {\n",
       "        vertical-align: top;\n",
       "    }\n",
       "\n",
       "    .dataframe thead th {\n",
       "        text-align: right;\n",
       "    }\n",
       "</style>\n",
       "<table border=\"1\" class=\"dataframe\">\n",
       "  <thead>\n",
       "    <tr style=\"text-align: right;\">\n",
       "      <th></th>\n",
       "      <th>low_budget</th>\n",
       "      <th>season</th>\n",
       "      <th>purpose</th>\n",
       "      <th>decision</th>\n",
       "    </tr>\n",
       "  </thead>\n",
       "  <tbody>\n",
       "    <tr>\n",
       "      <th>0</th>\n",
       "      <td>True</td>\n",
       "      <td>winter</td>\n",
       "      <td>casual</td>\n",
       "      <td>polyester</td>\n",
       "    </tr>\n",
       "    <tr>\n",
       "      <th>1</th>\n",
       "      <td>False</td>\n",
       "      <td>summer</td>\n",
       "      <td>casual</td>\n",
       "      <td>flax</td>\n",
       "    </tr>\n",
       "    <tr>\n",
       "      <th>2</th>\n",
       "      <td>False</td>\n",
       "      <td>autumn</td>\n",
       "      <td>official</td>\n",
       "      <td>silk</td>\n",
       "    </tr>\n",
       "    <tr>\n",
       "      <th>3</th>\n",
       "      <td>False</td>\n",
       "      <td>summer</td>\n",
       "      <td>sport</td>\n",
       "      <td>cotton</td>\n",
       "    </tr>\n",
       "    <tr>\n",
       "      <th>4</th>\n",
       "      <td>False</td>\n",
       "      <td>winter</td>\n",
       "      <td>sport</td>\n",
       "      <td>wool</td>\n",
       "    </tr>\n",
       "    <tr>\n",
       "      <th>5</th>\n",
       "      <td>False</td>\n",
       "      <td>autumn</td>\n",
       "      <td>casual</td>\n",
       "      <td>neulon</td>\n",
       "    </tr>\n",
       "  </tbody>\n",
       "</table>\n",
       "</div>"
      ],
      "text/plain": [
       "   low_budget  season   purpose   decision\n",
       "0        True  winter    casual  polyester\n",
       "1       False  summer    casual       flax\n",
       "2       False  autumn  official       silk\n",
       "3       False  summer     sport     cotton\n",
       "4       False  winter     sport       wool\n",
       "5       False  autumn    casual     neulon"
      ]
     },
     "execution_count": 45,
     "metadata": {},
     "output_type": "execute_result"
    }
   ],
   "source": [
    "import pandas\n",
    "\n",
    "cases = [\n",
    "    ClothesParameters(True,  \"winter\", \"casual\"),    \n",
    "    ClothesParameters(False, \"summer\", \"casual\"),    \n",
    "    ClothesParameters(False, \"autumn\", \"official\"),    \n",
    "    ClothesParameters(False, \"summer\", \"sport\"),    \n",
    "    ClothesParameters(False, \"winter\", \"sport\"),    \n",
    "    ClothesParameters(False, \"autumn\", \"casual\"),    \n",
    "]\n",
    "\n",
    "data = [c.__dict__ | {\"decision\": get_clothes_material(c)} for c in cases]\n",
    "\n",
    "pandas.DataFrame(data)"
   ]
  }
 ],
 "metadata": {
  "kernelspec": {
   "display_name": ".venv",
   "language": "python",
   "name": "python3"
  },
  "language_info": {
   "codemirror_mode": {
    "name": "ipython",
    "version": 3
   },
   "file_extension": ".py",
   "mimetype": "text/x-python",
   "name": "python",
   "nbconvert_exporter": "python",
   "pygments_lexer": "ipython3",
   "version": "3.13.3"
  }
 },
 "nbformat": 4,
 "nbformat_minor": 5
}
