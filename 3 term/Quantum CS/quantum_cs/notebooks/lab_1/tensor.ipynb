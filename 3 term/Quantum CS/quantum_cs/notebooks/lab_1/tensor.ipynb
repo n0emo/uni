{
 "cells": [
  {
   "cell_type": "markdown",
   "id": "9df018fb-c125-4ffc-9f7e-6dee1c6ebe8a",
   "metadata": {},
   "source": [
    "# Тензорное произведение матриц"
   ]
  },
  {
   "cell_type": "markdown",
   "id": "0c856a51-b1d6-4c08-99de-ec0e2f0dccd4",
   "metadata": {},
   "source": [
    "### Подключение модуля numpy"
   ]
  },
  {
   "cell_type": "code",
   "execution_count": 1,
   "id": "458d098d-e299-4906-9039-f8977009a093",
   "metadata": {
    "ExecuteTime": {
     "end_time": "2023-09-26T13:21:48.933569273Z",
     "start_time": "2023-09-26T13:21:48.927795547Z"
    }
   },
   "outputs": [],
   "source": [
    "import numpy as np"
   ]
  },
  {
   "cell_type": "markdown",
   "id": "f6c12349-4d7a-48b4-9338-b6be7d035e3c",
   "metadata": {},
   "source": [
    "### Определение функции, вычисляющей тензорное произведение двух матриц"
   ]
  },
  {
   "cell_type": "code",
   "execution_count": 2,
   "id": "142cdf4e-d7a8-4319-b47a-1a10392bb74a",
   "metadata": {
    "ExecuteTime": {
     "end_time": "2023-09-26T13:21:48.937655500Z",
     "start_time": "2023-09-26T13:21:48.935415690Z"
    }
   },
   "outputs": [],
   "source": [
    "def tensor_product(m_a, m_b):\n",
    "    m, n = m_a.shape\n",
    "    p, q = m_b.shape\n",
    "    result = np.zeros((m * p, n * q))\n",
    "\n",
    "    for i in range(m):\n",
    "        for j in range(n):\n",
    "            result[i * p : (i + 1) * p, j * q :(j + 1) * q] = m_a[i, j] * m_b\n",
    "\n",
    "    return result "
   ]
  },
  {
   "cell_type": "markdown",
   "id": "2b0b3528-8c55-4638-ae39-7e8ac54113d0",
   "metadata": {},
   "source": [
    "### Сравнение функции с аналогичной из модуля numpy"
   ]
  },
  {
   "cell_type": "code",
   "execution_count": 3,
   "id": "3cf909ac-92ab-499e-a26b-d51a60d1ef60",
   "metadata": {
    "ExecuteTime": {
     "end_time": "2023-09-26T13:21:48.944597307Z",
     "start_time": "2023-09-26T13:21:48.937780974Z"
    }
   },
   "outputs": [
    {
     "name": "stdout",
     "output_type": "stream",
     "text": [
      "tensor_product: \n",
      "[[ 40.94   48.06   23.     27.     23.46   27.54 ]\n",
      " [ 13.35   30.26    7.5    17.      7.65   17.34 ]\n",
      " [ 48.06   38.715  27.     21.75   27.54   22.185]\n",
      " [ 42.78   50.22   23.     27.    157.32  184.68 ]\n",
      " [ 13.95   31.62    7.5    17.     51.3   116.28 ]\n",
      " [ 50.22   40.455  27.     21.75  184.68  148.77 ]]\n",
      "\n",
      "numpy.kron: \n",
      "[[ 40.94   48.06   23.     27.     23.46   27.54 ]\n",
      " [ 13.35   30.26    7.5    17.      7.65   17.34 ]\n",
      " [ 48.06   38.715  27.     21.75   27.54   22.185]\n",
      " [ 42.78   50.22   23.     27.    157.32  184.68 ]\n",
      " [ 13.95   31.62    7.5    17.     51.3   116.28 ]\n",
      " [ 50.22   40.455  27.     21.75  184.68  148.77 ]]\n"
     ]
    }
   ],
   "source": [
    "a = np.array([\n",
    "    [8.9, 5.0, 5.1],\n",
    "    [9.3, 5.0, 34.2]\n",
    "])\n",
    "b = np.array([\n",
    "    [4.6, 5.4],\n",
    "    [1.5, 3.4],\n",
    "    [5.4, 4.35]\n",
    "])\n",
    "\n",
    "# Вычисление тензорного произведения с помощью разработанной функции\n",
    "print(f\"tensor_product: \\n{tensor_product(a, b)}\\n\")\n",
    "\n",
    "# Вычисление тензорного произведения с помощью встроенной функции numpy\n",
    "print(f\"numpy.kron: \\n{np.kron(a, b)}\") "
   ]
  }
 ],
 "metadata": {
  "kernelspec": {
   "display_name": "Python 3 (ipykernel)",
   "language": "python",
   "name": "python3"
  },
  "language_info": {
   "codemirror_mode": {
    "name": "ipython",
    "version": 3
   },
   "file_extension": ".py",
   "mimetype": "text/x-python",
   "name": "python",
   "nbconvert_exporter": "python",
   "pygments_lexer": "ipython3",
   "version": "3.12.0"
  }
 },
 "nbformat": 4,
 "nbformat_minor": 5
}
